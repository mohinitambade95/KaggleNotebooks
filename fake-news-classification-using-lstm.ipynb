{
 "cells": [
  {
   "cell_type": "code",
   "execution_count": 1,
   "id": "7c0e2561",
   "metadata": {
    "_cell_guid": "b1076dfc-b9ad-4769-8c92-a6c4dae69d19",
    "_uuid": "8f2839f25d086af736a60e9eeb907d3b93b6e0e5",
    "execution": {
     "iopub.execute_input": "2023-02-04T13:28:35.158202Z",
     "iopub.status.busy": "2023-02-04T13:28:35.157335Z",
     "iopub.status.idle": "2023-02-04T13:28:35.175333Z",
     "shell.execute_reply": "2023-02-04T13:28:35.174440Z"
    },
    "papermill": {
     "duration": 0.02911,
     "end_time": "2023-02-04T13:28:35.177636",
     "exception": false,
     "start_time": "2023-02-04T13:28:35.148526",
     "status": "completed"
    },
    "tags": []
   },
   "outputs": [
    {
     "name": "stdout",
     "output_type": "stream",
     "text": [
      "/kaggle/input/fake-news/fake_train.csv\n"
     ]
    }
   ],
   "source": [
    "# This Python 3 environment comes with many helpful analytics libraries installed\n",
    "# It is defined by the kaggle/python Docker image: https://github.com/kaggle/docker-python\n",
    "# For example, here's several helpful packages to load\n",
    "\n",
    "import numpy as np # linear algebra\n",
    "import pandas as pd # data processing, CSV file I/O (e.g. pd.read_csv)\n",
    "\n",
    "# Input data files are available in the read-only \"../input/\" directory\n",
    "# For example, running this (by clicking run or pressing Shift+Enter) will list all files under the input directory\n",
    "\n",
    "import os\n",
    "for dirname, _, filenames in os.walk('/kaggle/input'):\n",
    "    for filename in filenames:\n",
    "        print(os.path.join(dirname, filename))\n",
    "\n",
    "# You can write up to 20GB to the current directory (/kaggle/working/) that gets preserved as output when you create a version using \"Save & Run All\" \n",
    "# You can also write temporary files to /kaggle/temp/, but they won't be saved outside of the current session"
   ]
  },
  {
   "cell_type": "markdown",
   "id": "3ece731b",
   "metadata": {
    "papermill": {
     "duration": 0.005819,
     "end_time": "2023-02-04T13:28:35.189667",
     "exception": false,
     "start_time": "2023-02-04T13:28:35.183848",
     "status": "completed"
    },
    "tags": []
   },
   "source": [
    "## Read Data"
   ]
  },
  {
   "cell_type": "code",
   "execution_count": 2,
   "id": "30192dc3",
   "metadata": {
    "execution": {
     "iopub.execute_input": "2023-02-04T13:28:35.202775Z",
     "iopub.status.busy": "2023-02-04T13:28:35.202477Z",
     "iopub.status.idle": "2023-02-04T13:28:37.612261Z",
     "shell.execute_reply": "2023-02-04T13:28:37.611186Z"
    },
    "papermill": {
     "duration": 2.418855,
     "end_time": "2023-02-04T13:28:37.614666",
     "exception": false,
     "start_time": "2023-02-04T13:28:35.195811",
     "status": "completed"
    },
    "tags": []
   },
   "outputs": [],
   "source": [
    "data = pd.read_csv(\"/kaggle/input/fake-news/fake_train.csv\")"
   ]
  },
  {
   "cell_type": "code",
   "execution_count": 3,
   "id": "4c8376b4",
   "metadata": {
    "execution": {
     "iopub.execute_input": "2023-02-04T13:28:37.629803Z",
     "iopub.status.busy": "2023-02-04T13:28:37.628244Z",
     "iopub.status.idle": "2023-02-04T13:28:37.647990Z",
     "shell.execute_reply": "2023-02-04T13:28:37.646555Z"
    },
    "papermill": {
     "duration": 0.029223,
     "end_time": "2023-02-04T13:28:37.650495",
     "exception": false,
     "start_time": "2023-02-04T13:28:37.621272",
     "status": "completed"
    },
    "tags": []
   },
   "outputs": [
    {
     "data": {
      "text/html": [
       "<div>\n",
       "<style scoped>\n",
       "    .dataframe tbody tr th:only-of-type {\n",
       "        vertical-align: middle;\n",
       "    }\n",
       "\n",
       "    .dataframe tbody tr th {\n",
       "        vertical-align: top;\n",
       "    }\n",
       "\n",
       "    .dataframe thead th {\n",
       "        text-align: right;\n",
       "    }\n",
       "</style>\n",
       "<table border=\"1\" class=\"dataframe\">\n",
       "  <thead>\n",
       "    <tr style=\"text-align: right;\">\n",
       "      <th></th>\n",
       "      <th>id</th>\n",
       "      <th>title</th>\n",
       "      <th>author</th>\n",
       "      <th>text</th>\n",
       "      <th>label</th>\n",
       "    </tr>\n",
       "  </thead>\n",
       "  <tbody>\n",
       "    <tr>\n",
       "      <th>0</th>\n",
       "      <td>0</td>\n",
       "      <td>House Dem Aide: We Didn’t Even See Comey’s Let...</td>\n",
       "      <td>Darrell Lucus</td>\n",
       "      <td>House Dem Aide: We Didn’t Even See Comey’s Let...</td>\n",
       "      <td>1</td>\n",
       "    </tr>\n",
       "    <tr>\n",
       "      <th>1</th>\n",
       "      <td>1</td>\n",
       "      <td>FLYNN: Hillary Clinton, Big Woman on Campus - ...</td>\n",
       "      <td>Daniel J. Flynn</td>\n",
       "      <td>Ever get the feeling your life circles the rou...</td>\n",
       "      <td>0</td>\n",
       "    </tr>\n",
       "    <tr>\n",
       "      <th>2</th>\n",
       "      <td>2</td>\n",
       "      <td>Why the Truth Might Get You Fired</td>\n",
       "      <td>Consortiumnews.com</td>\n",
       "      <td>Why the Truth Might Get You Fired October 29, ...</td>\n",
       "      <td>1</td>\n",
       "    </tr>\n",
       "    <tr>\n",
       "      <th>3</th>\n",
       "      <td>3</td>\n",
       "      <td>15 Civilians Killed In Single US Airstrike Hav...</td>\n",
       "      <td>Jessica Purkiss</td>\n",
       "      <td>Videos 15 Civilians Killed In Single US Airstr...</td>\n",
       "      <td>1</td>\n",
       "    </tr>\n",
       "    <tr>\n",
       "      <th>4</th>\n",
       "      <td>4</td>\n",
       "      <td>Iranian woman jailed for fictional unpublished...</td>\n",
       "      <td>Howard Portnoy</td>\n",
       "      <td>Print \\nAn Iranian woman has been sentenced to...</td>\n",
       "      <td>1</td>\n",
       "    </tr>\n",
       "  </tbody>\n",
       "</table>\n",
       "</div>"
      ],
      "text/plain": [
       "   id                                              title              author  \\\n",
       "0   0  House Dem Aide: We Didn’t Even See Comey’s Let...       Darrell Lucus   \n",
       "1   1  FLYNN: Hillary Clinton, Big Woman on Campus - ...     Daniel J. Flynn   \n",
       "2   2                  Why the Truth Might Get You Fired  Consortiumnews.com   \n",
       "3   3  15 Civilians Killed In Single US Airstrike Hav...     Jessica Purkiss   \n",
       "4   4  Iranian woman jailed for fictional unpublished...      Howard Portnoy   \n",
       "\n",
       "                                                text  label  \n",
       "0  House Dem Aide: We Didn’t Even See Comey’s Let...      1  \n",
       "1  Ever get the feeling your life circles the rou...      0  \n",
       "2  Why the Truth Might Get You Fired October 29, ...      1  \n",
       "3  Videos 15 Civilians Killed In Single US Airstr...      1  \n",
       "4  Print \\nAn Iranian woman has been sentenced to...      1  "
      ]
     },
     "execution_count": 3,
     "metadata": {},
     "output_type": "execute_result"
    }
   ],
   "source": [
    "data.head()"
   ]
  },
  {
   "cell_type": "markdown",
   "id": "916d1698",
   "metadata": {
    "papermill": {
     "duration": 0.005819,
     "end_time": "2023-02-04T13:28:37.662509",
     "exception": false,
     "start_time": "2023-02-04T13:28:37.656690",
     "status": "completed"
    },
    "tags": []
   },
   "source": [
    "## Check for null values"
   ]
  },
  {
   "cell_type": "code",
   "execution_count": 4,
   "id": "ec29ce2d",
   "metadata": {
    "execution": {
     "iopub.execute_input": "2023-02-04T13:28:37.677506Z",
     "iopub.status.busy": "2023-02-04T13:28:37.676599Z",
     "iopub.status.idle": "2023-02-04T13:28:37.697043Z",
     "shell.execute_reply": "2023-02-04T13:28:37.696068Z"
    },
    "papermill": {
     "duration": 0.029703,
     "end_time": "2023-02-04T13:28:37.699401",
     "exception": false,
     "start_time": "2023-02-04T13:28:37.669698",
     "status": "completed"
    },
    "tags": []
   },
   "outputs": [
    {
     "data": {
      "text/html": [
       "<div>\n",
       "<style scoped>\n",
       "    .dataframe tbody tr th:only-of-type {\n",
       "        vertical-align: middle;\n",
       "    }\n",
       "\n",
       "    .dataframe tbody tr th {\n",
       "        vertical-align: top;\n",
       "    }\n",
       "\n",
       "    .dataframe thead th {\n",
       "        text-align: right;\n",
       "    }\n",
       "</style>\n",
       "<table border=\"1\" class=\"dataframe\">\n",
       "  <thead>\n",
       "    <tr style=\"text-align: right;\">\n",
       "      <th></th>\n",
       "      <th>id</th>\n",
       "      <th>title</th>\n",
       "      <th>author</th>\n",
       "      <th>text</th>\n",
       "      <th>label</th>\n",
       "    </tr>\n",
       "  </thead>\n",
       "  <tbody>\n",
       "    <tr>\n",
       "      <th>6</th>\n",
       "      <td>6</td>\n",
       "      <td>Life: Life Of Luxury: Elton John’s 6 Favorite ...</td>\n",
       "      <td>NaN</td>\n",
       "      <td>Ever wonder how Britain’s most iconic pop pian...</td>\n",
       "      <td>1</td>\n",
       "    </tr>\n",
       "    <tr>\n",
       "      <th>8</th>\n",
       "      <td>8</td>\n",
       "      <td>Excerpts From a Draft Script for Donald Trump’...</td>\n",
       "      <td>NaN</td>\n",
       "      <td>Donald J. Trump is scheduled to make a highly ...</td>\n",
       "      <td>0</td>\n",
       "    </tr>\n",
       "    <tr>\n",
       "      <th>20</th>\n",
       "      <td>20</td>\n",
       "      <td>News: Hope For The GOP: A Nude Paul Ryan Has J...</td>\n",
       "      <td>NaN</td>\n",
       "      <td>Email \\nSince Donald Trump entered the electio...</td>\n",
       "      <td>1</td>\n",
       "    </tr>\n",
       "    <tr>\n",
       "      <th>23</th>\n",
       "      <td>23</td>\n",
       "      <td>Massachusetts Cop’s Wife Busted for Pinning Fa...</td>\n",
       "      <td>NaN</td>\n",
       "      <td>Massachusetts Cop’s Wife Busted for Pinning Fa...</td>\n",
       "      <td>1</td>\n",
       "    </tr>\n",
       "    <tr>\n",
       "      <th>31</th>\n",
       "      <td>31</td>\n",
       "      <td>Israel is Becoming Pivotal to China’s Mid-East...</td>\n",
       "      <td>NaN</td>\n",
       "      <td>Country: Israel While China is silently playin...</td>\n",
       "      <td>1</td>\n",
       "    </tr>\n",
       "    <tr>\n",
       "      <th>...</th>\n",
       "      <td>...</td>\n",
       "      <td>...</td>\n",
       "      <td>...</td>\n",
       "      <td>...</td>\n",
       "      <td>...</td>\n",
       "    </tr>\n",
       "    <tr>\n",
       "      <th>20745</th>\n",
       "      <td>20745</td>\n",
       "      <td>Thomas Frank Explores Whether Hillary Clinton ...</td>\n",
       "      <td>NaN</td>\n",
       "      <td>Thomas Frank Explores Whether Hillary Clinton ...</td>\n",
       "      <td>1</td>\n",
       "    </tr>\n",
       "    <tr>\n",
       "      <th>20768</th>\n",
       "      <td>20768</td>\n",
       "      <td>Osama bin Laden’s older brother rents out luxu...</td>\n",
       "      <td>NaN</td>\n",
       "      <td>Osama bin Laden’s older brother rents out luxu...</td>\n",
       "      <td>1</td>\n",
       "    </tr>\n",
       "    <tr>\n",
       "      <th>20771</th>\n",
       "      <td>20771</td>\n",
       "      <td>NaN</td>\n",
       "      <td>Letsbereal</td>\n",
       "      <td>DYN's Statement on Last Week's Botnet Attack h...</td>\n",
       "      <td>1</td>\n",
       "    </tr>\n",
       "    <tr>\n",
       "      <th>20772</th>\n",
       "      <td>20772</td>\n",
       "      <td>NaN</td>\n",
       "      <td>beersession</td>\n",
       "      <td>Kinda reminds me of when Carter gave away the ...</td>\n",
       "      <td>1</td>\n",
       "    </tr>\n",
       "    <tr>\n",
       "      <th>20786</th>\n",
       "      <td>20786</td>\n",
       "      <td>Government Forces Advancing at Damascus-Aleppo...</td>\n",
       "      <td>NaN</td>\n",
       "      <td>#FROMTHEFRONT #MAPS 22.11.2016 - 1,361 views 5...</td>\n",
       "      <td>1</td>\n",
       "    </tr>\n",
       "  </tbody>\n",
       "</table>\n",
       "<p>2515 rows × 5 columns</p>\n",
       "</div>"
      ],
      "text/plain": [
       "          id                                              title       author  \\\n",
       "6          6  Life: Life Of Luxury: Elton John’s 6 Favorite ...          NaN   \n",
       "8          8  Excerpts From a Draft Script for Donald Trump’...          NaN   \n",
       "20        20  News: Hope For The GOP: A Nude Paul Ryan Has J...          NaN   \n",
       "23        23  Massachusetts Cop’s Wife Busted for Pinning Fa...          NaN   \n",
       "31        31  Israel is Becoming Pivotal to China’s Mid-East...          NaN   \n",
       "...      ...                                                ...          ...   \n",
       "20745  20745  Thomas Frank Explores Whether Hillary Clinton ...          NaN   \n",
       "20768  20768  Osama bin Laden’s older brother rents out luxu...          NaN   \n",
       "20771  20771                                                NaN   Letsbereal   \n",
       "20772  20772                                                NaN  beersession   \n",
       "20786  20786  Government Forces Advancing at Damascus-Aleppo...          NaN   \n",
       "\n",
       "                                                    text  label  \n",
       "6      Ever wonder how Britain’s most iconic pop pian...      1  \n",
       "8      Donald J. Trump is scheduled to make a highly ...      0  \n",
       "20     Email \\nSince Donald Trump entered the electio...      1  \n",
       "23     Massachusetts Cop’s Wife Busted for Pinning Fa...      1  \n",
       "31     Country: Israel While China is silently playin...      1  \n",
       "...                                                  ...    ...  \n",
       "20745  Thomas Frank Explores Whether Hillary Clinton ...      1  \n",
       "20768  Osama bin Laden’s older brother rents out luxu...      1  \n",
       "20771  DYN's Statement on Last Week's Botnet Attack h...      1  \n",
       "20772  Kinda reminds me of when Carter gave away the ...      1  \n",
       "20786  #FROMTHEFRONT #MAPS 22.11.2016 - 1,361 views 5...      1  \n",
       "\n",
       "[2515 rows x 5 columns]"
      ]
     },
     "execution_count": 4,
     "metadata": {},
     "output_type": "execute_result"
    }
   ],
   "source": [
    "data[data.isnull().any(axis=1)]"
   ]
  },
  {
   "cell_type": "markdown",
   "id": "0da9e839",
   "metadata": {
    "papermill": {
     "duration": 0.006141,
     "end_time": "2023-02-04T13:28:37.711886",
     "exception": false,
     "start_time": "2023-02-04T13:28:37.705745",
     "status": "completed"
    },
    "tags": []
   },
   "source": [
    "## Remove Nulls"
   ]
  },
  {
   "cell_type": "code",
   "execution_count": 5,
   "id": "75639325",
   "metadata": {
    "execution": {
     "iopub.execute_input": "2023-02-04T13:28:37.725265Z",
     "iopub.status.busy": "2023-02-04T13:28:37.725008Z",
     "iopub.status.idle": "2023-02-04T13:28:37.737720Z",
     "shell.execute_reply": "2023-02-04T13:28:37.736924Z"
    },
    "papermill": {
     "duration": 0.021611,
     "end_time": "2023-02-04T13:28:37.739696",
     "exception": false,
     "start_time": "2023-02-04T13:28:37.718085",
     "status": "completed"
    },
    "tags": []
   },
   "outputs": [],
   "source": [
    "data.dropna(inplace=True)"
   ]
  },
  {
   "cell_type": "code",
   "execution_count": 6,
   "id": "1058cbc9",
   "metadata": {
    "execution": {
     "iopub.execute_input": "2023-02-04T13:28:37.752948Z",
     "iopub.status.busy": "2023-02-04T13:28:37.752669Z",
     "iopub.status.idle": "2023-02-04T13:28:37.758387Z",
     "shell.execute_reply": "2023-02-04T13:28:37.757404Z"
    },
    "papermill": {
     "duration": 0.015747,
     "end_time": "2023-02-04T13:28:37.761516",
     "exception": false,
     "start_time": "2023-02-04T13:28:37.745769",
     "status": "completed"
    },
    "tags": []
   },
   "outputs": [
    {
     "data": {
      "text/plain": [
       "(18285, 5)"
      ]
     },
     "execution_count": 6,
     "metadata": {},
     "output_type": "execute_result"
    }
   ],
   "source": [
    "data.shape"
   ]
  },
  {
   "cell_type": "code",
   "execution_count": 7,
   "id": "e6cd1ced",
   "metadata": {
    "execution": {
     "iopub.execute_input": "2023-02-04T13:28:37.775104Z",
     "iopub.status.busy": "2023-02-04T13:28:37.774820Z",
     "iopub.status.idle": "2023-02-04T13:28:37.785461Z",
     "shell.execute_reply": "2023-02-04T13:28:37.784644Z"
    },
    "papermill": {
     "duration": 0.019886,
     "end_time": "2023-02-04T13:28:37.787631",
     "exception": false,
     "start_time": "2023-02-04T13:28:37.767745",
     "status": "completed"
    },
    "tags": []
   },
   "outputs": [],
   "source": [
    "X = data.drop('label',axis=1)\n",
    "Y = data['label']"
   ]
  },
  {
   "cell_type": "code",
   "execution_count": 8,
   "id": "8b53cc18",
   "metadata": {
    "execution": {
     "iopub.execute_input": "2023-02-04T13:28:37.801285Z",
     "iopub.status.busy": "2023-02-04T13:28:37.801028Z",
     "iopub.status.idle": "2023-02-04T13:28:37.807225Z",
     "shell.execute_reply": "2023-02-04T13:28:37.806189Z"
    },
    "papermill": {
     "duration": 0.015904,
     "end_time": "2023-02-04T13:28:37.810058",
     "exception": false,
     "start_time": "2023-02-04T13:28:37.794154",
     "status": "completed"
    },
    "tags": []
   },
   "outputs": [
    {
     "data": {
      "text/plain": [
       "(18285, 4)"
      ]
     },
     "execution_count": 8,
     "metadata": {},
     "output_type": "execute_result"
    }
   ],
   "source": [
    "X.shape"
   ]
  },
  {
   "cell_type": "markdown",
   "id": "dc2b3566",
   "metadata": {
    "papermill": {
     "duration": 0.00651,
     "end_time": "2023-02-04T13:28:37.823133",
     "exception": false,
     "start_time": "2023-02-04T13:28:37.816623",
     "status": "completed"
    },
    "tags": []
   },
   "source": [
    "## Import Required Libraries"
   ]
  },
  {
   "cell_type": "code",
   "execution_count": 9,
   "id": "09d60ca7",
   "metadata": {
    "execution": {
     "iopub.execute_input": "2023-02-04T13:28:37.837306Z",
     "iopub.status.busy": "2023-02-04T13:28:37.836783Z",
     "iopub.status.idle": "2023-02-04T13:28:43.776264Z",
     "shell.execute_reply": "2023-02-04T13:28:43.775257Z"
    },
    "papermill": {
     "duration": 5.949481,
     "end_time": "2023-02-04T13:28:43.779020",
     "exception": false,
     "start_time": "2023-02-04T13:28:37.829539",
     "status": "completed"
    },
    "tags": []
   },
   "outputs": [],
   "source": [
    "from tensorflow.keras.layers import Embedding\n",
    "from tensorflow.keras.layers import LSTM\n",
    "from tensorflow.keras.layers import Dense\n",
    "from tensorflow.keras.preprocessing.text import one_hot\n",
    "from tensorflow.keras.preprocessing.sequence import pad_sequences\n",
    "from tensorflow.keras.models import Sequential"
   ]
  },
  {
   "cell_type": "code",
   "execution_count": 10,
   "id": "d7fc0974",
   "metadata": {
    "execution": {
     "iopub.execute_input": "2023-02-04T13:28:43.793944Z",
     "iopub.status.busy": "2023-02-04T13:28:43.793412Z",
     "iopub.status.idle": "2023-02-04T13:28:43.799931Z",
     "shell.execute_reply": "2023-02-04T13:28:43.798953Z"
    },
    "papermill": {
     "duration": 0.016228,
     "end_time": "2023-02-04T13:28:43.802016",
     "exception": false,
     "start_time": "2023-02-04T13:28:43.785788",
     "status": "completed"
    },
    "tags": []
   },
   "outputs": [],
   "source": [
    "messages = X.copy()"
   ]
  },
  {
   "cell_type": "code",
   "execution_count": 11,
   "id": "566b4767",
   "metadata": {
    "execution": {
     "iopub.execute_input": "2023-02-04T13:28:43.816635Z",
     "iopub.status.busy": "2023-02-04T13:28:43.815609Z",
     "iopub.status.idle": "2023-02-04T13:28:43.821332Z",
     "shell.execute_reply": "2023-02-04T13:28:43.820389Z"
    },
    "papermill": {
     "duration": 0.014999,
     "end_time": "2023-02-04T13:28:43.823357",
     "exception": false,
     "start_time": "2023-02-04T13:28:43.808358",
     "status": "completed"
    },
    "tags": []
   },
   "outputs": [],
   "source": [
    "messages.reset_index(inplace=True)"
   ]
  },
  {
   "cell_type": "code",
   "execution_count": 12,
   "id": "68bf8c07",
   "metadata": {
    "execution": {
     "iopub.execute_input": "2023-02-04T13:28:43.837636Z",
     "iopub.status.busy": "2023-02-04T13:28:43.836874Z",
     "iopub.status.idle": "2023-02-04T13:28:45.122935Z",
     "shell.execute_reply": "2023-02-04T13:28:45.121937Z"
    },
    "papermill": {
     "duration": 1.295714,
     "end_time": "2023-02-04T13:28:45.125327",
     "exception": false,
     "start_time": "2023-02-04T13:28:43.829613",
     "status": "completed"
    },
    "tags": []
   },
   "outputs": [],
   "source": [
    "import nltk\n",
    "import re\n",
    "from nltk.corpus import stopwords\n",
    "from nltk.stem.porter import PorterStemmer"
   ]
  },
  {
   "cell_type": "markdown",
   "id": "6e2cbb04",
   "metadata": {
    "papermill": {
     "duration": 0.006441,
     "end_time": "2023-02-04T13:28:45.138573",
     "exception": false,
     "start_time": "2023-02-04T13:28:45.132132",
     "status": "completed"
    },
    "tags": []
   },
   "source": [
    "## Data Preprocessing"
   ]
  },
  {
   "cell_type": "code",
   "execution_count": 13,
   "id": "22fe2602",
   "metadata": {
    "execution": {
     "iopub.execute_input": "2023-02-04T13:28:45.152597Z",
     "iopub.status.busy": "2023-02-04T13:28:45.152294Z",
     "iopub.status.idle": "2023-02-04T13:29:18.097137Z",
     "shell.execute_reply": "2023-02-04T13:29:18.096076Z"
    },
    "papermill": {
     "duration": 32.954888,
     "end_time": "2023-02-04T13:29:18.099857",
     "exception": false,
     "start_time": "2023-02-04T13:28:45.144969",
     "status": "completed"
    },
    "tags": []
   },
   "outputs": [],
   "source": [
    "ps = PorterStemmer()\n",
    "corpus = []\n",
    "for i in range(len(messages)):\n",
    "    title = re.sub('[^a-zA-Z]',' ',messages['title'][i])\n",
    "    title = title.lower()\n",
    "    title = title.split()\n",
    "    title = [ps.stem(word) for word in title if word not in stopwords.words('english')]\n",
    "    title = ' '.join(title)\n",
    "    corpus.append(title)"
   ]
  },
  {
   "cell_type": "markdown",
   "id": "bd6d69ff",
   "metadata": {
    "papermill": {
     "duration": 0.006644,
     "end_time": "2023-02-04T13:29:18.113618",
     "exception": false,
     "start_time": "2023-02-04T13:29:18.106974",
     "status": "completed"
    },
    "tags": []
   },
   "source": [
    "## One Hot Representation"
   ]
  },
  {
   "cell_type": "code",
   "execution_count": 14,
   "id": "e1ae44bd",
   "metadata": {
    "execution": {
     "iopub.execute_input": "2023-02-04T13:29:18.129854Z",
     "iopub.status.busy": "2023-02-04T13:29:18.128702Z",
     "iopub.status.idle": "2023-02-04T13:29:18.360082Z",
     "shell.execute_reply": "2023-02-04T13:29:18.359030Z"
    },
    "papermill": {
     "duration": 0.242472,
     "end_time": "2023-02-04T13:29:18.362887",
     "exception": false,
     "start_time": "2023-02-04T13:29:18.120415",
     "status": "completed"
    },
    "tags": []
   },
   "outputs": [],
   "source": [
    "vocab_size = 5000\n",
    "one_hot_rep = [one_hot(sent,vocab_size) for sent in corpus]\n",
    "#one_hot_rep"
   ]
  },
  {
   "cell_type": "markdown",
   "id": "507dc4bf",
   "metadata": {
    "papermill": {
     "duration": 0.006222,
     "end_time": "2023-02-04T13:29:18.375853",
     "exception": false,
     "start_time": "2023-02-04T13:29:18.369631",
     "status": "completed"
    },
    "tags": []
   },
   "source": [
    "## Embedding Representation"
   ]
  },
  {
   "cell_type": "markdown",
   "id": "5d8fb955",
   "metadata": {
    "papermill": {
     "duration": 0.006294,
     "end_time": "2023-02-04T13:29:18.388670",
     "exception": false,
     "start_time": "2023-02-04T13:29:18.382376",
     "status": "completed"
    },
    "tags": []
   },
   "source": [
    "### Create Padded Sequence"
   ]
  },
  {
   "cell_type": "code",
   "execution_count": 15,
   "id": "0336c07b",
   "metadata": {
    "execution": {
     "iopub.execute_input": "2023-02-04T13:29:18.402717Z",
     "iopub.status.busy": "2023-02-04T13:29:18.402386Z",
     "iopub.status.idle": "2023-02-04T13:29:18.451241Z",
     "shell.execute_reply": "2023-02-04T13:29:18.450150Z"
    },
    "papermill": {
     "duration": 0.058606,
     "end_time": "2023-02-04T13:29:18.453601",
     "exception": false,
     "start_time": "2023-02-04T13:29:18.394995",
     "status": "completed"
    },
    "tags": []
   },
   "outputs": [],
   "source": [
    "sent_length = 20\n",
    "padded_docs = pad_sequences(one_hot_rep, padding = 'pre', maxlen=sent_length)"
   ]
  },
  {
   "cell_type": "code",
   "execution_count": 16,
   "id": "7799aa6b",
   "metadata": {
    "execution": {
     "iopub.execute_input": "2023-02-04T13:29:18.468269Z",
     "iopub.status.busy": "2023-02-04T13:29:18.467959Z",
     "iopub.status.idle": "2023-02-04T13:29:22.819225Z",
     "shell.execute_reply": "2023-02-04T13:29:22.816779Z"
    },
    "papermill": {
     "duration": 4.361309,
     "end_time": "2023-02-04T13:29:22.821548",
     "exception": false,
     "start_time": "2023-02-04T13:29:18.460239",
     "status": "completed"
    },
    "tags": []
   },
   "outputs": [
    {
     "name": "stderr",
     "output_type": "stream",
     "text": [
      "2023-02-04 13:29:18.608221: I tensorflow/stream_executor/cuda/cuda_gpu_executor.cc:937] successful NUMA node read from SysFS had negative value (-1), but there must be at least one NUMA node, so returning NUMA node zero\n",
      "2023-02-04 13:29:18.609143: I tensorflow/stream_executor/cuda/cuda_gpu_executor.cc:937] successful NUMA node read from SysFS had negative value (-1), but there must be at least one NUMA node, so returning NUMA node zero\n",
      "2023-02-04 13:29:18.727691: I tensorflow/stream_executor/cuda/cuda_gpu_executor.cc:937] successful NUMA node read from SysFS had negative value (-1), but there must be at least one NUMA node, so returning NUMA node zero\n",
      "2023-02-04 13:29:18.728551: I tensorflow/stream_executor/cuda/cuda_gpu_executor.cc:937] successful NUMA node read from SysFS had negative value (-1), but there must be at least one NUMA node, so returning NUMA node zero\n",
      "2023-02-04 13:29:18.729531: I tensorflow/stream_executor/cuda/cuda_gpu_executor.cc:937] successful NUMA node read from SysFS had negative value (-1), but there must be at least one NUMA node, so returning NUMA node zero\n",
      "2023-02-04 13:29:18.730333: I tensorflow/stream_executor/cuda/cuda_gpu_executor.cc:937] successful NUMA node read from SysFS had negative value (-1), but there must be at least one NUMA node, so returning NUMA node zero\n",
      "2023-02-04 13:29:18.732262: I tensorflow/core/platform/cpu_feature_guard.cc:142] This TensorFlow binary is optimized with oneAPI Deep Neural Network Library (oneDNN) to use the following CPU instructions in performance-critical operations:  AVX2 AVX512F FMA\n",
      "To enable them in other operations, rebuild TensorFlow with the appropriate compiler flags.\n",
      "2023-02-04 13:29:18.988259: I tensorflow/stream_executor/cuda/cuda_gpu_executor.cc:937] successful NUMA node read from SysFS had negative value (-1), but there must be at least one NUMA node, so returning NUMA node zero\n",
      "2023-02-04 13:29:18.989136: I tensorflow/stream_executor/cuda/cuda_gpu_executor.cc:937] successful NUMA node read from SysFS had negative value (-1), but there must be at least one NUMA node, so returning NUMA node zero\n",
      "2023-02-04 13:29:18.989860: I tensorflow/stream_executor/cuda/cuda_gpu_executor.cc:937] successful NUMA node read from SysFS had negative value (-1), but there must be at least one NUMA node, so returning NUMA node zero\n",
      "2023-02-04 13:29:18.990558: I tensorflow/stream_executor/cuda/cuda_gpu_executor.cc:937] successful NUMA node read from SysFS had negative value (-1), but there must be at least one NUMA node, so returning NUMA node zero\n",
      "2023-02-04 13:29:18.991242: I tensorflow/stream_executor/cuda/cuda_gpu_executor.cc:937] successful NUMA node read from SysFS had negative value (-1), but there must be at least one NUMA node, so returning NUMA node zero\n",
      "2023-02-04 13:29:18.991988: I tensorflow/stream_executor/cuda/cuda_gpu_executor.cc:937] successful NUMA node read from SysFS had negative value (-1), but there must be at least one NUMA node, so returning NUMA node zero\n",
      "2023-02-04 13:29:22.162061: I tensorflow/stream_executor/cuda/cuda_gpu_executor.cc:937] successful NUMA node read from SysFS had negative value (-1), but there must be at least one NUMA node, so returning NUMA node zero\n",
      "2023-02-04 13:29:22.163058: I tensorflow/stream_executor/cuda/cuda_gpu_executor.cc:937] successful NUMA node read from SysFS had negative value (-1), but there must be at least one NUMA node, so returning NUMA node zero\n",
      "2023-02-04 13:29:22.163822: I tensorflow/stream_executor/cuda/cuda_gpu_executor.cc:937] successful NUMA node read from SysFS had negative value (-1), but there must be at least one NUMA node, so returning NUMA node zero\n",
      "2023-02-04 13:29:22.164527: I tensorflow/stream_executor/cuda/cuda_gpu_executor.cc:937] successful NUMA node read from SysFS had negative value (-1), but there must be at least one NUMA node, so returning NUMA node zero\n",
      "2023-02-04 13:29:22.165234: I tensorflow/stream_executor/cuda/cuda_gpu_executor.cc:937] successful NUMA node read from SysFS had negative value (-1), but there must be at least one NUMA node, so returning NUMA node zero\n",
      "2023-02-04 13:29:22.165935: I tensorflow/core/common_runtime/gpu/gpu_device.cc:1510] Created device /job:localhost/replica:0/task:0/device:GPU:0 with 13789 MB memory:  -> device: 0, name: Tesla T4, pci bus id: 0000:00:04.0, compute capability: 7.5\n",
      "2023-02-04 13:29:22.168885: I tensorflow/stream_executor/cuda/cuda_gpu_executor.cc:937] successful NUMA node read from SysFS had negative value (-1), but there must be at least one NUMA node, so returning NUMA node zero\n",
      "2023-02-04 13:29:22.169568: I tensorflow/core/common_runtime/gpu/gpu_device.cc:1510] Created device /job:localhost/replica:0/task:0/device:GPU:1 with 13789 MB memory:  -> device: 1, name: Tesla T4, pci bus id: 0000:00:05.0, compute capability: 7.5\n"
     ]
    },
    {
     "name": "stdout",
     "output_type": "stream",
     "text": [
      "Model: \"sequential\"\n",
      "_________________________________________________________________\n",
      "Layer (type)                 Output Shape              Param #   \n",
      "=================================================================\n",
      "embedding (Embedding)        (None, 20, 40)            200000    \n",
      "_________________________________________________________________\n",
      "lstm (LSTM)                  (None, 100)               56400     \n",
      "_________________________________________________________________\n",
      "dense (Dense)                (None, 1)                 101       \n",
      "=================================================================\n",
      "Total params: 256,501\n",
      "Trainable params: 256,501\n",
      "Non-trainable params: 0\n",
      "_________________________________________________________________\n",
      "None\n"
     ]
    }
   ],
   "source": [
    "# Creating model\n",
    "embedding_vector_features = 40\n",
    "model = Sequential()\n",
    "model.add(Embedding(vocab_size,embedding_vector_features,input_length = sent_length))\n",
    "model.add(LSTM(100)) #one LSTM layer with 100 neurons\n",
    "model.add(Dense(1,activation = 'sigmoid'))\n",
    "model.compile(loss='binary_crossentropy', optimizer='adam',metrics=['accuracy'])\n",
    "print(model.summary())"
   ]
  },
  {
   "cell_type": "code",
   "execution_count": 17,
   "id": "ec6dcb14",
   "metadata": {
    "execution": {
     "iopub.execute_input": "2023-02-04T13:29:22.838224Z",
     "iopub.status.busy": "2023-02-04T13:29:22.837312Z",
     "iopub.status.idle": "2023-02-04T13:29:22.842910Z",
     "shell.execute_reply": "2023-02-04T13:29:22.841934Z"
    },
    "papermill": {
     "duration": 0.016053,
     "end_time": "2023-02-04T13:29:22.845078",
     "exception": false,
     "start_time": "2023-02-04T13:29:22.829025",
     "status": "completed"
    },
    "tags": []
   },
   "outputs": [],
   "source": [
    "X_final = np.array(padded_docs)\n",
    "Y_final = np.array(Y)"
   ]
  },
  {
   "cell_type": "code",
   "execution_count": 18,
   "id": "4fee7caa",
   "metadata": {
    "execution": {
     "iopub.execute_input": "2023-02-04T13:29:22.860426Z",
     "iopub.status.busy": "2023-02-04T13:29:22.860114Z",
     "iopub.status.idle": "2023-02-04T13:29:22.868866Z",
     "shell.execute_reply": "2023-02-04T13:29:22.868006Z"
    },
    "papermill": {
     "duration": 0.019171,
     "end_time": "2023-02-04T13:29:22.870879",
     "exception": false,
     "start_time": "2023-02-04T13:29:22.851708",
     "status": "completed"
    },
    "tags": []
   },
   "outputs": [],
   "source": [
    "from sklearn.model_selection import train_test_split\n",
    "X_train, X_test, Y_train, Y_test = train_test_split(X_final, Y_final, test_size = 0.3)"
   ]
  },
  {
   "cell_type": "markdown",
   "id": "af33519a",
   "metadata": {
    "papermill": {
     "duration": 0.006928,
     "end_time": "2023-02-04T13:29:22.884740",
     "exception": false,
     "start_time": "2023-02-04T13:29:22.877812",
     "status": "completed"
    },
    "tags": []
   },
   "source": [
    "## Model Training"
   ]
  },
  {
   "cell_type": "code",
   "execution_count": 19,
   "id": "cef3d94b",
   "metadata": {
    "execution": {
     "iopub.execute_input": "2023-02-04T13:29:22.900684Z",
     "iopub.status.busy": "2023-02-04T13:29:22.899770Z",
     "iopub.status.idle": "2023-02-04T13:29:45.502071Z",
     "shell.execute_reply": "2023-02-04T13:29:45.500931Z"
    },
    "papermill": {
     "duration": 22.612534,
     "end_time": "2023-02-04T13:29:45.504290",
     "exception": false,
     "start_time": "2023-02-04T13:29:22.891756",
     "status": "completed"
    },
    "tags": []
   },
   "outputs": [
    {
     "name": "stdout",
     "output_type": "stream",
     "text": [
      "Epoch 1/10\n"
     ]
    },
    {
     "name": "stderr",
     "output_type": "stream",
     "text": [
      "2023-02-04 13:29:22.952958: I tensorflow/compiler/mlir/mlir_graph_optimization_pass.cc:185] None of the MLIR Optimization Passes are enabled (registered 2)\n",
      "2023-02-04 13:29:26.330095: I tensorflow/stream_executor/cuda/cuda_dnn.cc:369] Loaded cuDNN version 8005\n"
     ]
    },
    {
     "name": "stdout",
     "output_type": "stream",
     "text": [
      "200/200 [==============================] - 7s 9ms/step - loss: 0.3331 - accuracy: 0.8427 - val_loss: 0.1860 - val_accuracy: 0.9213\n",
      "Epoch 2/10\n",
      "200/200 [==============================] - 2s 8ms/step - loss: 0.1374 - accuracy: 0.9444 - val_loss: 0.1947 - val_accuracy: 0.9240\n",
      "Epoch 3/10\n",
      "200/200 [==============================] - 1s 7ms/step - loss: 0.0963 - accuracy: 0.9634 - val_loss: 0.2170 - val_accuracy: 0.9242\n",
      "Epoch 4/10\n",
      "200/200 [==============================] - 1s 7ms/step - loss: 0.0629 - accuracy: 0.9763 - val_loss: 0.2346 - val_accuracy: 0.9191\n",
      "Epoch 5/10\n",
      "200/200 [==============================] - 1s 7ms/step - loss: 0.0416 - accuracy: 0.9862 - val_loss: 0.2830 - val_accuracy: 0.9149\n",
      "Epoch 6/10\n",
      "200/200 [==============================] - 1s 7ms/step - loss: 0.0238 - accuracy: 0.9928 - val_loss: 0.3723 - val_accuracy: 0.9172\n",
      "Epoch 7/10\n",
      "200/200 [==============================] - 1s 7ms/step - loss: 0.0154 - accuracy: 0.9949 - val_loss: 0.3654 - val_accuracy: 0.9100\n",
      "Epoch 8/10\n",
      "200/200 [==============================] - 1s 7ms/step - loss: 0.0067 - accuracy: 0.9983 - val_loss: 0.4663 - val_accuracy: 0.9167\n",
      "Epoch 9/10\n",
      "200/200 [==============================] - 1s 7ms/step - loss: 0.0053 - accuracy: 0.9985 - val_loss: 0.5702 - val_accuracy: 0.9158\n",
      "Epoch 10/10\n",
      "200/200 [==============================] - 2s 8ms/step - loss: 0.0046 - accuracy: 0.9986 - val_loss: 0.6781 - val_accuracy: 0.9118\n"
     ]
    },
    {
     "data": {
      "text/plain": [
       "<keras.callbacks.History at 0x7f4c20155a10>"
      ]
     },
     "execution_count": 19,
     "metadata": {},
     "output_type": "execute_result"
    }
   ],
   "source": [
    "model.fit(X_train, Y_train, validation_data=(X_test,Y_test), epochs=10, batch_size = 64)"
   ]
  },
  {
   "cell_type": "markdown",
   "id": "a4c6d940",
   "metadata": {
    "papermill": {
     "duration": 0.019312,
     "end_time": "2023-02-04T13:29:45.543754",
     "exception": false,
     "start_time": "2023-02-04T13:29:45.524442",
     "status": "completed"
    },
    "tags": []
   },
   "source": [
    "## Performance Metrics and Accuracy"
   ]
  },
  {
   "cell_type": "code",
   "execution_count": 20,
   "id": "47d729e7",
   "metadata": {
    "execution": {
     "iopub.execute_input": "2023-02-04T13:29:45.584055Z",
     "iopub.status.busy": "2023-02-04T13:29:45.583381Z",
     "iopub.status.idle": "2023-02-04T13:29:46.146851Z",
     "shell.execute_reply": "2023-02-04T13:29:46.145856Z"
    },
    "papermill": {
     "duration": 0.586001,
     "end_time": "2023-02-04T13:29:46.149350",
     "exception": false,
     "start_time": "2023-02-04T13:29:45.563349",
     "status": "completed"
    },
    "tags": []
   },
   "outputs": [],
   "source": [
    "predictions = (model.predict(X_test) > 0.5).astype(\"int32\")"
   ]
  },
  {
   "cell_type": "code",
   "execution_count": 21,
   "id": "d3ee9f0b",
   "metadata": {
    "execution": {
     "iopub.execute_input": "2023-02-04T13:29:46.188777Z",
     "iopub.status.busy": "2023-02-04T13:29:46.188455Z",
     "iopub.status.idle": "2023-02-04T13:29:46.197143Z",
     "shell.execute_reply": "2023-02-04T13:29:46.196106Z"
    },
    "papermill": {
     "duration": 0.030636,
     "end_time": "2023-02-04T13:29:46.199398",
     "exception": false,
     "start_time": "2023-02-04T13:29:46.168762",
     "status": "completed"
    },
    "tags": []
   },
   "outputs": [
    {
     "data": {
      "text/plain": [
       "array([[2860,  290],\n",
       "       [ 194, 2142]])"
      ]
     },
     "execution_count": 21,
     "metadata": {},
     "output_type": "execute_result"
    }
   ],
   "source": [
    "from sklearn.metrics import confusion_matrix\n",
    "confusion_matrix(Y_test, predictions)"
   ]
  },
  {
   "cell_type": "code",
   "execution_count": 22,
   "id": "eafc2b62",
   "metadata": {
    "execution": {
     "iopub.execute_input": "2023-02-04T13:29:46.238866Z",
     "iopub.status.busy": "2023-02-04T13:29:46.238560Z",
     "iopub.status.idle": "2023-02-04T13:29:46.246475Z",
     "shell.execute_reply": "2023-02-04T13:29:46.245424Z"
    },
    "papermill": {
     "duration": 0.030331,
     "end_time": "2023-02-04T13:29:46.248629",
     "exception": false,
     "start_time": "2023-02-04T13:29:46.218298",
     "status": "completed"
    },
    "tags": []
   },
   "outputs": [
    {
     "data": {
      "text/plain": [
       "0.9117754283631061"
      ]
     },
     "execution_count": 22,
     "metadata": {},
     "output_type": "execute_result"
    }
   ],
   "source": [
    "from sklearn.metrics import accuracy_score\n",
    "accuracy_score(Y_test, predictions)"
   ]
  }
 ],
 "metadata": {
  "kernelspec": {
   "display_name": "Python 3",
   "language": "python",
   "name": "python3"
  },
  "language_info": {
   "codemirror_mode": {
    "name": "ipython",
    "version": 3
   },
   "file_extension": ".py",
   "mimetype": "text/x-python",
   "name": "python",
   "nbconvert_exporter": "python",
   "pygments_lexer": "ipython3",
   "version": "3.7.12"
  },
  "papermill": {
   "default_parameters": {},
   "duration": 82.315962,
   "end_time": "2023-02-04T13:29:49.643341",
   "environment_variables": {},
   "exception": null,
   "input_path": "__notebook__.ipynb",
   "output_path": "__notebook__.ipynb",
   "parameters": {},
   "start_time": "2023-02-04T13:28:27.327379",
   "version": "2.3.4"
  }
 },
 "nbformat": 4,
 "nbformat_minor": 5
}
