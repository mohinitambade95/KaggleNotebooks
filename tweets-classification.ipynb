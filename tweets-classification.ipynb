{
 "cells": [
  {
   "cell_type": "code",
   "execution_count": 1,
   "id": "2ffe323b",
   "metadata": {
    "_cell_guid": "b1076dfc-b9ad-4769-8c92-a6c4dae69d19",
    "_uuid": "8f2839f25d086af736a60e9eeb907d3b93b6e0e5",
    "execution": {
     "iopub.execute_input": "2021-07-25T09:08:38.809318Z",
     "iopub.status.busy": "2021-07-25T09:08:38.803570Z",
     "iopub.status.idle": "2021-07-25T09:08:38.815006Z",
     "shell.execute_reply": "2021-07-25T09:08:38.815602Z"
    },
    "papermill": {
     "duration": 0.062939,
     "end_time": "2021-07-25T09:08:38.815986",
     "exception": false,
     "start_time": "2021-07-25T09:08:38.753047",
     "status": "completed"
    },
    "tags": []
   },
   "outputs": [
    {
     "name": "stdout",
     "output_type": "stream",
     "text": [
      "/kaggle/input/nlp-getting-started/sample_submission.csv\n",
      "/kaggle/input/nlp-getting-started/train.csv\n",
      "/kaggle/input/nlp-getting-started/test.csv\n"
     ]
    }
   ],
   "source": [
    "# This Python 3 environment comes with many helpful analytics libraries installed\n",
    "# It is defined by the kaggle/python Docker image: https://github.com/kaggle/docker-python\n",
    "# For example, here's several helpful packages to load\n",
    "\n",
    "import numpy as np # linear algebra\n",
    "import pandas as pd # data processing, CSV file I/O (e.g. pd.read_csv)\n",
    "\n",
    "# Input data files are available in the read-only \"../input/\" directory\n",
    "# For example, running this (by clicking run or pressing Shift+Enter) will list all files under the input directory\n",
    "\n",
    "import os\n",
    "for dirname, _, filenames in os.walk('/kaggle/input'):\n",
    "    for filename in filenames:\n",
    "        print(os.path.join(dirname, filename))\n",
    "\n",
    "# You can write up to 20GB to the current directory (/kaggle/working/) that gets preserved as output when you create a version using \"Save & Run All\" \n",
    "# You can also write temporary files to /kaggle/temp/, but they won't be saved outside of the current session"
   ]
  },
  {
   "cell_type": "code",
   "execution_count": 2,
   "id": "9eda1656",
   "metadata": {
    "execution": {
     "iopub.execute_input": "2021-07-25T09:08:38.903847Z",
     "iopub.status.busy": "2021-07-25T09:08:38.903027Z",
     "iopub.status.idle": "2021-07-25T09:08:39.661109Z",
     "shell.execute_reply": "2021-07-25T09:08:39.660420Z",
     "shell.execute_reply.started": "2021-07-25T08:22:52.135229Z"
    },
    "papermill": {
     "duration": 0.802981,
     "end_time": "2021-07-25T09:08:39.661296",
     "exception": false,
     "start_time": "2021-07-25T09:08:38.858315",
     "status": "completed"
    },
    "tags": []
   },
   "outputs": [
    {
     "name": "stdout",
     "output_type": "stream",
     "text": [
      "sample_submission.csv  test.csv  train.csv\r\n"
     ]
    }
   ],
   "source": [
    "%ls '../input/nlp-getting-started/'"
   ]
  },
  {
   "cell_type": "markdown",
   "id": "b1471184",
   "metadata": {
    "papermill": {
     "duration": 0.046792,
     "end_time": "2021-07-25T09:08:39.750777",
     "exception": false,
     "start_time": "2021-07-25T09:08:39.703985",
     "status": "completed"
    },
    "tags": []
   },
   "source": [
    "### Load Libraries"
   ]
  },
  {
   "cell_type": "code",
   "execution_count": 3,
   "id": "2ee8823d",
   "metadata": {
    "execution": {
     "iopub.execute_input": "2021-07-25T09:08:39.848004Z",
     "iopub.status.busy": "2021-07-25T09:08:39.847048Z",
     "iopub.status.idle": "2021-07-25T09:08:50.437568Z",
     "shell.execute_reply": "2021-07-25T09:08:50.438052Z",
     "shell.execute_reply.started": "2021-07-25T08:25:29.498094Z"
    },
    "papermill": {
     "duration": 10.643457,
     "end_time": "2021-07-25T09:08:50.438255",
     "exception": false,
     "start_time": "2021-07-25T09:08:39.794798",
     "status": "completed"
    },
    "tags": []
   },
   "outputs": [
    {
     "name": "stdout",
     "output_type": "stream",
     "text": [
      "[nltk_data] Downloading package stopwords to /usr/share/nltk_data...\n",
      "[nltk_data]   Package stopwords is already up-to-date!\n"
     ]
    },
    {
     "data": {
      "text/plain": [
       "True"
      ]
     },
     "execution_count": 3,
     "metadata": {},
     "output_type": "execute_result"
    }
   ],
   "source": [
    "import warnings\n",
    "warnings.filterwarnings(\"ignore\")\n",
    "import pandas as pd\n",
    "import numpy as np\n",
    "import seaborn as sns\n",
    "import nltk\n",
    "import re\n",
    "import string\n",
    "import emoji\n",
    "import pickle\n",
    "from wordcloud import WordCloud, STOPWORDS\n",
    "import matplotlib.pyplot as plt\n",
    "from sklearn.tree import DecisionTreeClassifier\n",
    "from tensorflow.keras.layers import Embedding, Dropout\n",
    "from tensorflow.keras.preprocessing.sequence  import pad_sequences\n",
    "from tensorflow.keras.models import Sequential\n",
    "from tensorflow.keras.preprocessing.text import one_hot\n",
    "from tensorflow.keras.layers import LSTM\n",
    "from tensorflow.keras.layers import Dense\n",
    "nltk.download('stopwords')"
   ]
  },
  {
   "cell_type": "code",
   "execution_count": 4,
   "id": "44bc9441",
   "metadata": {
    "execution": {
     "iopub.execute_input": "2021-07-25T09:08:50.525937Z",
     "iopub.status.busy": "2021-07-25T09:08:50.524939Z",
     "iopub.status.idle": "2021-07-25T09:08:50.745031Z",
     "shell.execute_reply": "2021-07-25T09:08:50.744459Z",
     "shell.execute_reply.started": "2021-07-25T08:25:57.214095Z"
    },
    "papermill": {
     "duration": 0.267216,
     "end_time": "2021-07-25T09:08:50.745172",
     "exception": false,
     "start_time": "2021-07-25T09:08:50.477956",
     "status": "completed"
    },
    "tags": []
   },
   "outputs": [
    {
     "name": "stdout",
     "output_type": "stream",
     "text": [
      "[nltk_data] Downloading package punkt to /usr/share/nltk_data...\n",
      "[nltk_data]   Package punkt is already up-to-date!\n",
      "[nltk_data] Downloading package averaged_perceptron_tagger to\n",
      "[nltk_data]     /usr/share/nltk_data...\n",
      "[nltk_data]   Package averaged_perceptron_tagger is already up-to-\n",
      "[nltk_data]       date!\n",
      "[nltk_data] Downloading package maxent_ne_chunker to\n",
      "[nltk_data]     /usr/share/nltk_data...\n",
      "[nltk_data]   Package maxent_ne_chunker is already up-to-date!\n",
      "[nltk_data] Downloading package words to /usr/share/nltk_data...\n",
      "[nltk_data]   Package words is already up-to-date!\n",
      "[nltk_data] Downloading package wordnet to /usr/share/nltk_data...\n",
      "[nltk_data]   Package wordnet is already up-to-date!\n"
     ]
    }
   ],
   "source": [
    "nltk.download('punkt')\n",
    "nltk.download('averaged_perceptron_tagger')\n",
    "nltk.download('maxent_ne_chunker')\n",
    "nltk.download('words')\n",
    "nltk.download('wordnet')\n",
    "from nltk import ne_chunk, pos_tag, word_tokenize\n",
    "from nltk.tree import Tree"
   ]
  },
  {
   "cell_type": "markdown",
   "id": "92cd3dcb",
   "metadata": {
    "papermill": {
     "duration": 0.040963,
     "end_time": "2021-07-25T09:08:50.827014",
     "exception": false,
     "start_time": "2021-07-25T09:08:50.786051",
     "status": "completed"
    },
    "tags": []
   },
   "source": [
    "### Load Data"
   ]
  },
  {
   "cell_type": "code",
   "execution_count": 5,
   "id": "eea687a3",
   "metadata": {
    "execution": {
     "iopub.execute_input": "2021-07-25T09:08:50.915688Z",
     "iopub.status.busy": "2021-07-25T09:08:50.914610Z",
     "iopub.status.idle": "2021-07-25T09:08:50.996683Z",
     "shell.execute_reply": "2021-07-25T09:08:50.997461Z",
     "shell.execute_reply.started": "2021-07-25T08:27:24.385053Z"
    },
    "papermill": {
     "duration": 0.13014,
     "end_time": "2021-07-25T09:08:50.997666",
     "exception": false,
     "start_time": "2021-07-25T09:08:50.867526",
     "status": "completed"
    },
    "tags": []
   },
   "outputs": [],
   "source": [
    "train = pd.read_csv(\"../input/nlp-getting-started/train.csv\")\n",
    "test = pd.read_csv(\"../input/nlp-getting-started/test.csv\")"
   ]
  },
  {
   "cell_type": "code",
   "execution_count": 6,
   "id": "3638fdda",
   "metadata": {
    "execution": {
     "iopub.execute_input": "2021-07-25T09:08:51.092042Z",
     "iopub.status.busy": "2021-07-25T09:08:51.091009Z",
     "iopub.status.idle": "2021-07-25T09:08:51.097121Z",
     "shell.execute_reply": "2021-07-25T09:08:51.096548Z",
     "shell.execute_reply.started": "2021-07-25T08:27:44.022208Z"
    },
    "papermill": {
     "duration": 0.054672,
     "end_time": "2021-07-25T09:08:51.097313",
     "exception": false,
     "start_time": "2021-07-25T09:08:51.042641",
     "status": "completed"
    },
    "tags": []
   },
   "outputs": [
    {
     "name": "stdout",
     "output_type": "stream",
     "text": [
      "The number of rows and columns in train data is  (7613, 5)\n",
      "The number of rows and columns in test data is  (3263, 4)\n"
     ]
    }
   ],
   "source": [
    "print(\"The number of rows and columns in train data is \", train.shape)\n",
    "print(\"The number of rows and columns in test data is \", test.shape)"
   ]
  },
  {
   "cell_type": "code",
   "execution_count": 7,
   "id": "26cb3eeb",
   "metadata": {
    "execution": {
     "iopub.execute_input": "2021-07-25T09:08:51.188501Z",
     "iopub.status.busy": "2021-07-25T09:08:51.187781Z",
     "iopub.status.idle": "2021-07-25T09:08:51.204373Z",
     "shell.execute_reply": "2021-07-25T09:08:51.203771Z",
     "shell.execute_reply.started": "2021-07-25T08:28:14.028371Z"
    },
    "papermill": {
     "duration": 0.066352,
     "end_time": "2021-07-25T09:08:51.204542",
     "exception": false,
     "start_time": "2021-07-25T09:08:51.138190",
     "status": "completed"
    },
    "tags": []
   },
   "outputs": [
    {
     "data": {
      "text/plain": [
       "0    4342\n",
       "1    3271\n",
       "Name: target, dtype: int64"
      ]
     },
     "execution_count": 7,
     "metadata": {},
     "output_type": "execute_result"
    }
   ],
   "source": [
    "# Count of positive and negative target in train data\n",
    "train['target'].value_counts()"
   ]
  },
  {
   "cell_type": "code",
   "execution_count": 8,
   "id": "a6cd7783",
   "metadata": {
    "execution": {
     "iopub.execute_input": "2021-07-25T09:08:51.309348Z",
     "iopub.status.busy": "2021-07-25T09:08:51.308618Z",
     "iopub.status.idle": "2021-07-25T09:08:51.471438Z",
     "shell.execute_reply": "2021-07-25T09:08:51.470718Z",
     "shell.execute_reply.started": "2021-07-25T08:28:29.371519Z"
    },
    "papermill": {
     "duration": 0.22111,
     "end_time": "2021-07-25T09:08:51.471632",
     "exception": false,
     "start_time": "2021-07-25T09:08:51.250522",
     "status": "completed"
    },
    "tags": []
   },
   "outputs": [
    {
     "data": {
      "text/plain": [
       "<AxesSubplot:xlabel='target', ylabel='count'>"
      ]
     },
     "execution_count": 8,
     "metadata": {},
     "output_type": "execute_result"
    },
    {
     "data": {
      "image/png": "[encoded data removed]",
      "text/plain": [
       "<Figure size 432x288 with 1 Axes>"
      ]
     },
     "metadata": {
      "needs_background": "light"
     },
     "output_type": "display_data"
    }
   ],
   "source": [
    "sns.countplot(train['target'], data=train )"
   ]
  },
  {
   "cell_type": "code",
   "execution_count": 9,
   "id": "5678843a",
   "metadata": {
    "execution": {
     "iopub.execute_input": "2021-07-25T09:08:51.572481Z",
     "iopub.status.busy": "2021-07-25T09:08:51.571656Z",
     "iopub.status.idle": "2021-07-25T09:08:51.607853Z",
     "shell.execute_reply": "2021-07-25T09:08:51.608350Z",
     "shell.execute_reply.started": "2021-07-25T08:29:03.462329Z"
    },
    "papermill": {
     "duration": 0.090045,
     "end_time": "2021-07-25T09:08:51.608553",
     "exception": false,
     "start_time": "2021-07-25T09:08:51.518508",
     "status": "completed"
    },
    "tags": []
   },
   "outputs": [
    {
     "data": {
      "text/plain": [
       "id          0.000000\n",
       "keyword     0.008013\n",
       "location    0.332720\n",
       "text        0.000000\n",
       "target      0.000000\n",
       "dtype: float64"
      ]
     },
     "execution_count": 9,
     "metadata": {},
     "output_type": "execute_result"
    }
   ],
   "source": [
    "# Check for null values in train data\n",
    "train.isnull().sum()/len(train)"
   ]
  },
  {
   "cell_type": "code",
   "execution_count": 10,
   "id": "a4d31123",
   "metadata": {
    "execution": {
     "iopub.execute_input": "2021-07-25T09:08:51.705558Z",
     "iopub.status.busy": "2021-07-25T09:08:51.704691Z",
     "iopub.status.idle": "2021-07-25T09:08:51.710462Z",
     "shell.execute_reply": "2021-07-25T09:08:51.709902Z",
     "shell.execute_reply.started": "2021-07-25T08:29:22.614042Z"
    },
    "papermill": {
     "duration": 0.059619,
     "end_time": "2021-07-25T09:08:51.710604",
     "exception": false,
     "start_time": "2021-07-25T09:08:51.650985",
     "status": "completed"
    },
    "tags": []
   },
   "outputs": [
    {
     "data": {
      "text/plain": [
       "id          0.000000\n",
       "keyword     0.003415\n",
       "location    0.145146\n",
       "text        0.000000\n",
       "dtype: float64"
      ]
     },
     "execution_count": 10,
     "metadata": {},
     "output_type": "execute_result"
    }
   ],
   "source": [
    "# Check for null values in test data\n",
    "test.isnull().sum()/len(train)"
   ]
  },
  {
   "cell_type": "markdown",
   "id": "3c9acfec",
   "metadata": {
    "papermill": {
     "duration": 0.043644,
     "end_time": "2021-07-25T09:08:51.796871",
     "exception": false,
     "start_time": "2021-07-25T09:08:51.753227",
     "status": "completed"
    },
    "tags": []
   },
   "source": [
    "1. Around 33% of location values are missing from train data. So lets drop Location feature.\n",
    "2. Keyword are words picked from the tweet text. So we can drop keyword also."
   ]
  },
  {
   "cell_type": "code",
   "execution_count": 11,
   "id": "bd03ea9f",
   "metadata": {
    "execution": {
     "iopub.execute_input": "2021-07-25T09:08:51.893607Z",
     "iopub.status.busy": "2021-07-25T09:08:51.892863Z",
     "iopub.status.idle": "2021-07-25T09:08:51.897587Z",
     "shell.execute_reply": "2021-07-25T09:08:51.897002Z",
     "shell.execute_reply.started": "2021-07-25T08:31:11.898342Z"
    },
    "papermill": {
     "duration": 0.058362,
     "end_time": "2021-07-25T09:08:51.897735",
     "exception": false,
     "start_time": "2021-07-25T09:08:51.839373",
     "status": "completed"
    },
    "tags": []
   },
   "outputs": [],
   "source": [
    "train = train.drop(['location','keyword'], axis=1)\n",
    "test  = test.drop(['location','keyword'], axis=1)"
   ]
  },
  {
   "cell_type": "code",
   "execution_count": 12,
   "id": "5dc60c03",
   "metadata": {
    "execution": {
     "iopub.execute_input": "2021-07-25T09:08:51.990575Z",
     "iopub.status.busy": "2021-07-25T09:08:51.989822Z",
     "iopub.status.idle": "2021-07-25T09:08:52.004872Z",
     "shell.execute_reply": "2021-07-25T09:08:52.005372Z",
     "shell.execute_reply.started": "2021-07-25T08:31:26.969517Z"
    },
    "papermill": {
     "duration": 0.064472,
     "end_time": "2021-07-25T09:08:52.005565",
     "exception": false,
     "start_time": "2021-07-25T09:08:51.941093",
     "status": "completed"
    },
    "tags": []
   },
   "outputs": [
    {
     "data": {
      "text/html": [
       "<div>\n",
       "<style scoped>\n",
       "    .dataframe tbody tr th:only-of-type {\n",
       "        vertical-align: middle;\n",
       "    }\n",
       "\n",
       "    .dataframe tbody tr th {\n",
       "        vertical-align: top;\n",
       "    }\n",
       "\n",
       "    .dataframe thead th {\n",
       "        text-align: right;\n",
       "    }\n",
       "</style>\n",
       "<table border=\"1\" class=\"dataframe\">\n",
       "  <thead>\n",
       "    <tr style=\"text-align: right;\">\n",
       "      <th></th>\n",
       "      <th>id</th>\n",
       "      <th>text</th>\n",
       "      <th>target</th>\n",
       "    </tr>\n",
       "  </thead>\n",
       "  <tbody>\n",
       "    <tr>\n",
       "      <th>0</th>\n",
       "      <td>1</td>\n",
       "      <td>Our Deeds are the Reason of this #earthquake M...</td>\n",
       "      <td>1</td>\n",
       "    </tr>\n",
       "    <tr>\n",
       "      <th>1</th>\n",
       "      <td>4</td>\n",
       "      <td>Forest fire near La Ronge Sask. Canada</td>\n",
       "      <td>1</td>\n",
       "    </tr>\n",
       "    <tr>\n",
       "      <th>2</th>\n",
       "      <td>5</td>\n",
       "      <td>All residents asked to 'shelter in place' are ...</td>\n",
       "      <td>1</td>\n",
       "    </tr>\n",
       "    <tr>\n",
       "      <th>3</th>\n",
       "      <td>6</td>\n",
       "      <td>13,000 people receive #wildfires evacuation or...</td>\n",
       "      <td>1</td>\n",
       "    </tr>\n",
       "    <tr>\n",
       "      <th>4</th>\n",
       "      <td>7</td>\n",
       "      <td>Just got sent this photo from Ruby #Alaska as ...</td>\n",
       "      <td>1</td>\n",
       "    </tr>\n",
       "  </tbody>\n",
       "</table>\n",
       "</div>"
      ],
      "text/plain": [
       "   id                                               text  target\n",
       "0   1  Our Deeds are the Reason of this #earthquake M...       1\n",
       "1   4             Forest fire near La Ronge Sask. Canada       1\n",
       "2   5  All residents asked to 'shelter in place' are ...       1\n",
       "3   6  13,000 people receive #wildfires evacuation or...       1\n",
       "4   7  Just got sent this photo from Ruby #Alaska as ...       1"
      ]
     },
     "execution_count": 12,
     "metadata": {},
     "output_type": "execute_result"
    }
   ],
   "source": [
    "train.head()"
   ]
  },
  {
   "cell_type": "markdown",
   "id": "e1e9b232",
   "metadata": {
    "papermill": {
     "duration": 0.042338,
     "end_time": "2021-07-25T09:08:52.090934",
     "exception": false,
     "start_time": "2021-07-25T09:08:52.048596",
     "status": "completed"
    },
    "tags": []
   },
   "source": [
    "### Data Preprocessing"
   ]
  },
  {
   "cell_type": "code",
   "execution_count": 13,
   "id": "a717b9a9",
   "metadata": {
    "execution": {
     "iopub.execute_input": "2021-07-25T09:08:52.182023Z",
     "iopub.status.busy": "2021-07-25T09:08:52.181070Z",
     "iopub.status.idle": "2021-07-25T09:08:52.187250Z",
     "shell.execute_reply": "2021-07-25T09:08:52.187723Z",
     "shell.execute_reply.started": "2021-07-25T08:32:17.307792Z"
    },
    "papermill": {
     "duration": 0.05285,
     "end_time": "2021-07-25T09:08:52.187912",
     "exception": false,
     "start_time": "2021-07-25T09:08:52.135062",
     "status": "completed"
    },
    "tags": []
   },
   "outputs": [
    {
     "data": {
      "text/plain": [
       "'#flood #disaster Heavy rain causes flash flooding of streets in Manitou, Colorado Springs areas'"
      ]
     },
     "execution_count": 13,
     "metadata": {},
     "output_type": "execute_result"
    }
   ],
   "source": [
    "# Lets have a look at sample tweet\n",
    "train['text'].iloc[6]"
   ]
  },
  {
   "cell_type": "code",
   "execution_count": 14,
   "id": "e2ba7eea",
   "metadata": {
    "execution": {
     "iopub.execute_input": "2021-07-25T09:08:52.282551Z",
     "iopub.status.busy": "2021-07-25T09:08:52.281429Z",
     "iopub.status.idle": "2021-07-25T09:08:52.295193Z",
     "shell.execute_reply": "2021-07-25T09:08:52.295803Z",
     "shell.execute_reply.started": "2021-07-25T08:33:07.782192Z"
    },
    "papermill": {
     "duration": 0.06415,
     "end_time": "2021-07-25T09:08:52.296051",
     "exception": false,
     "start_time": "2021-07-25T09:08:52.231901",
     "status": "completed"
    },
    "tags": []
   },
   "outputs": [],
   "source": [
    "def clean_text(text):\n",
    "  # Delete all the tags like \"< anyword >\"\n",
    "  text = re.sub(\"\\<([^)]+)\\>\", \"\", text)\n",
    "\n",
    "  # Delet data present in brackets\n",
    "  text = re.sub(\"\\(([^)]+)\\)\", \"\", text)\n",
    "  text = re.sub(\"\\[([^)]+)\\]\", \"\", text)\n",
    "\n",
    "  text = re.sub(r'@[A-Za-z0-9_]+','',text)\n",
    "  text = re.sub('#','', text)\n",
    "\n",
    "  # Remove all the newlines('\\n'), tabs('\\t'), \"-\", \"\\\".\n",
    "  text = re.sub(\"\\n\", \"\",text)\n",
    "  text = re.sub(\"\\t\", \"\",text)\n",
    "  text = re.sub(\"-\", \"\",text)\n",
    "\n",
    "  #Decontraction\n",
    "  # specific\n",
    "  text = re.sub(r\"won\\'t\", \"will not\", text)\n",
    "  text = re.sub(r\"can\\'t\", \"can not\", text)\n",
    "\n",
    "  # general\n",
    "  text = re.sub(r\"n\\'t\", \" not\", text)\n",
    "  text = re.sub(r\"\\'re\", \" are\", text)\n",
    "  text = re.sub(r\"\\'s\", \" is\", text)\n",
    "  text = re.sub(r\"\\'d\", \" would\", text)\n",
    "  text = re.sub(r\"\\'ll\", \" will\", text)\n",
    "  text = re.sub(r\"\\'t\", \" not\", text)\n",
    "  text = re.sub(r\"\\'ve\", \" have\", text)\n",
    "  text = re.sub(r\"\\'m\", \" am\", text)\n",
    "  \n",
    "\n",
    "  #Replace all the digits with space\n",
    "  text = re.sub(\"\\d\", \"\", text)\n",
    "  \n",
    "  # Remove emojis\n",
    "  text = re.sub(emoji.get_emoji_regexp(), r\"\", text)\n",
    "\n",
    "  #Remove URLSs\n",
    "  text = re.sub(r'https?:\\/\\/[A-Za-z0-9\\.\\/]+','',text)\n",
    "  text = re.sub(r\"https?://\\S+|www\\.\\S+\",\"\",text)\n",
    "\n",
    "  # Convert all the words into lower case and lowe case and remove the words which are greater than or equal to 15 or less than or equal to 2.\n",
    "  text = \" \".join([e.lower() for e in text.split(\" \") if (len(e)>2 and len(e)<15)])\n",
    "  text = text.strip()\n",
    "\n",
    "  return text\n"
   ]
  },
  {
   "cell_type": "code",
   "execution_count": 15,
   "id": "b44ec64e",
   "metadata": {
    "execution": {
     "iopub.execute_input": "2021-07-25T09:08:52.394695Z",
     "iopub.status.busy": "2021-07-25T09:08:52.393631Z",
     "iopub.status.idle": "2021-07-25T09:08:52.400675Z",
     "shell.execute_reply": "2021-07-25T09:08:52.401169Z",
     "shell.execute_reply.started": "2021-07-25T08:33:33.198799Z"
    },
    "papermill": {
     "duration": 0.05859,
     "end_time": "2021-07-25T09:08:52.401416",
     "exception": false,
     "start_time": "2021-07-25T09:08:52.342826",
     "status": "completed"
    },
    "tags": []
   },
   "outputs": [],
   "source": [
    "#Function to remove punctuation\n",
    "def remove_punc(text):\n",
    "  # define punctuation\n",
    "  punctuations = '''!()-[]{};:'\"\\,<>./?@#$%^&*_~'''\n",
    "  new_text = \"\"\n",
    "  for char in text:\n",
    "    if char not in punctuations:\n",
    "      new_text = new_text + char\n",
    "\n",
    "  return new_text"
   ]
  },
  {
   "cell_type": "code",
   "execution_count": 16,
   "id": "864a17d5",
   "metadata": {
    "execution": {
     "iopub.execute_input": "2021-07-25T09:08:52.500604Z",
     "iopub.status.busy": "2021-07-25T09:08:52.499512Z",
     "iopub.status.idle": "2021-07-25T09:08:52.505547Z",
     "shell.execute_reply": "2021-07-25T09:08:52.506061Z",
     "shell.execute_reply.started": "2021-07-25T08:33:56.055113Z"
    },
    "papermill": {
     "duration": 0.056612,
     "end_time": "2021-07-25T09:08:52.506290",
     "exception": false,
     "start_time": "2021-07-25T09:08:52.449678",
     "status": "completed"
    },
    "tags": []
   },
   "outputs": [],
   "source": [
    "# Function to remove stopwords from text\n",
    "from nltk.corpus import stopwords\n",
    "def remove_stopwords(text):\n",
    "  stop_words = set(stopwords.words('english'))\n",
    "  new_text = \"\"\n",
    "\n",
    "  for word in text.split():\n",
    "    if word not in stop_words:\n",
    "      new_text = new_text+\" \"+word\n",
    "  return new_text"
   ]
  },
  {
   "cell_type": "code",
   "execution_count": 17,
   "id": "d51e1f02",
   "metadata": {
    "execution": {
     "iopub.execute_input": "2021-07-25T09:08:52.607357Z",
     "iopub.status.busy": "2021-07-25T09:08:52.606209Z",
     "iopub.status.idle": "2021-07-25T09:08:52.613346Z",
     "shell.execute_reply": "2021-07-25T09:08:52.612612Z",
     "shell.execute_reply.started": "2021-07-25T08:34:15.980556Z"
    },
    "papermill": {
     "duration": 0.060014,
     "end_time": "2021-07-25T09:08:52.613515",
     "exception": false,
     "start_time": "2021-07-25T09:08:52.553501",
     "status": "completed"
    },
    "tags": []
   },
   "outputs": [],
   "source": [
    "# Lemmatization\n",
    "from nltk.stem import WordNetLemmatizer \n",
    "def lemmatize(text):\n",
    "  lemmatizer = WordNetLemmatizer()\n",
    "  sent = \" \".join([lemmatizer.lemmatize(word) for word in text.split()])\n",
    "  return sent"
   ]
  },
  {
   "cell_type": "code",
   "execution_count": 18,
   "id": "0dfcfcae",
   "metadata": {
    "execution": {
     "iopub.execute_input": "2021-07-25T09:08:52.725599Z",
     "iopub.status.busy": "2021-07-25T09:08:52.720362Z",
     "iopub.status.idle": "2021-07-25T09:09:00.165946Z",
     "shell.execute_reply": "2021-07-25T09:09:00.164524Z",
     "shell.execute_reply.started": "2021-07-25T08:34:33.803614Z"
    },
    "papermill": {
     "duration": 7.504915,
     "end_time": "2021-07-25T09:09:00.166116",
     "exception": false,
     "start_time": "2021-07-25T09:08:52.661201",
     "status": "completed"
    },
    "tags": []
   },
   "outputs": [],
   "source": [
    "# Apply all preprocessing functions on train data\n",
    "train['text'] = train['text'].apply(remove_punc)\n",
    "train['text'] = train['text'].apply(remove_stopwords)\n",
    "train['text'] = train['text'].apply(clean_text)\n",
    "train['text'] = train['text'].apply(lemmatize)"
   ]
  },
  {
   "cell_type": "code",
   "execution_count": 19,
   "id": "cfc07555",
   "metadata": {
    "execution": {
     "iopub.execute_input": "2021-07-25T09:09:00.323172Z",
     "iopub.status.busy": "2021-07-25T09:09:00.297352Z",
     "iopub.status.idle": "2021-07-25T09:09:02.434590Z",
     "shell.execute_reply": "2021-07-25T09:09:02.433916Z",
     "shell.execute_reply.started": "2021-07-25T08:34:55.425780Z"
    },
    "papermill": {
     "duration": 2.22417,
     "end_time": "2021-07-25T09:09:02.434751",
     "exception": false,
     "start_time": "2021-07-25T09:09:00.210581",
     "status": "completed"
    },
    "tags": []
   },
   "outputs": [],
   "source": [
    "# Apply all preprocessing functions on test data\n",
    "test['text'] = test['text'].apply(remove_punc)\n",
    "test['text'] = test['text'].apply(remove_stopwords)\n",
    "test['text'] = test['text'].apply(clean_text)\n",
    "test['text'] = test['text'].apply(lemmatize)"
   ]
  },
  {
   "cell_type": "code",
   "execution_count": 20,
   "id": "7879502a",
   "metadata": {
    "execution": {
     "iopub.execute_input": "2021-07-25T09:09:02.531089Z",
     "iopub.status.busy": "2021-07-25T09:09:02.530407Z",
     "iopub.status.idle": "2021-07-25T09:09:02.532715Z",
     "shell.execute_reply": "2021-07-25T09:09:02.533176Z",
     "shell.execute_reply.started": "2021-07-25T08:35:22.191472Z"
    },
    "papermill": {
     "duration": 0.055143,
     "end_time": "2021-07-25T09:09:02.533400",
     "exception": false,
     "start_time": "2021-07-25T09:09:02.478257",
     "status": "completed"
    },
    "tags": []
   },
   "outputs": [],
   "source": [
    "# Get all the preprocessed tweets from training data into a list\n",
    "corpus = list(train['text'])"
   ]
  },
  {
   "cell_type": "markdown",
   "id": "0018eacc",
   "metadata": {
    "papermill": {
     "duration": 0.045501,
     "end_time": "2021-07-25T09:09:02.624959",
     "exception": false,
     "start_time": "2021-07-25T09:09:02.579458",
     "status": "completed"
    },
    "tags": []
   },
   "source": [
    "### Word Embedding"
   ]
  },
  {
   "cell_type": "code",
   "execution_count": 21,
   "id": "1918ce0c",
   "metadata": {
    "execution": {
     "iopub.execute_input": "2021-07-25T09:09:02.720363Z",
     "iopub.status.busy": "2021-07-25T09:09:02.719331Z",
     "iopub.status.idle": "2021-07-25T09:09:02.722832Z",
     "shell.execute_reply": "2021-07-25T09:09:02.722155Z",
     "shell.execute_reply.started": "2021-07-25T08:36:37.191178Z"
    },
    "papermill": {
     "duration": 0.053971,
     "end_time": "2021-07-25T09:09:02.723026",
     "exception": false,
     "start_time": "2021-07-25T09:09:02.669055",
     "status": "completed"
    },
    "tags": []
   },
   "outputs": [],
   "source": [
    "# Vocabulary size\n",
    "voc_size = 10000"
   ]
  },
  {
   "cell_type": "code",
   "execution_count": 22,
   "id": "56a4b095",
   "metadata": {
    "execution": {
     "iopub.execute_input": "2021-07-25T09:09:02.888785Z",
     "iopub.status.busy": "2021-07-25T09:09:02.856617Z",
     "iopub.status.idle": "2021-07-25T09:09:02.942981Z",
     "shell.execute_reply": "2021-07-25T09:09:02.942207Z",
     "shell.execute_reply.started": "2021-07-25T08:36:41.706345Z"
    },
    "papermill": {
     "duration": 0.173956,
     "end_time": "2021-07-25T09:09:02.943152",
     "exception": false,
     "start_time": "2021-07-25T09:09:02.769196",
     "status": "completed"
    },
    "tags": []
   },
   "outputs": [],
   "source": [
    "# Convert corpus to one hot representaion\n",
    "one_hot_rep = [one_hot(word, voc_size) for word in corpus]"
   ]
  },
  {
   "cell_type": "code",
   "execution_count": 23,
   "id": "4060b1cb",
   "metadata": {
    "execution": {
     "iopub.execute_input": "2021-07-25T09:09:03.041566Z",
     "iopub.status.busy": "2021-07-25T09:09:03.040712Z",
     "iopub.status.idle": "2021-07-25T09:09:03.043942Z",
     "shell.execute_reply": "2021-07-25T09:09:03.043384Z",
     "shell.execute_reply.started": "2021-07-25T08:36:45.675026Z"
    },
    "papermill": {
     "duration": 0.055952,
     "end_time": "2021-07-25T09:09:03.044099",
     "exception": false,
     "start_time": "2021-07-25T09:09:02.988147",
     "status": "completed"
    },
    "tags": []
   },
   "outputs": [],
   "source": [
    "# Get the average length of tweet\n",
    "max_length = np.mean([len(doc) for doc in corpus])\n",
    "max_length = int(max_length)"
   ]
  },
  {
   "cell_type": "code",
   "execution_count": 24,
   "id": "610c4474",
   "metadata": {
    "execution": {
     "iopub.execute_input": "2021-07-25T09:09:03.142378Z",
     "iopub.status.busy": "2021-07-25T09:09:03.141668Z",
     "iopub.status.idle": "2021-07-25T09:09:03.207588Z",
     "shell.execute_reply": "2021-07-25T09:09:03.206932Z",
     "shell.execute_reply.started": "2021-07-25T08:37:02.298908Z"
    },
    "papermill": {
     "duration": 0.116928,
     "end_time": "2021-07-25T09:09:03.207763",
     "exception": false,
     "start_time": "2021-07-25T09:09:03.090835",
     "status": "completed"
    },
    "tags": []
   },
   "outputs": [
    {
     "name": "stdout",
     "output_type": "stream",
     "text": [
      "[[   0    0    0 ... 4630 2713 1273]\n",
      " [   0    0    0 ... 4575 7993  634]\n",
      " [   0    0    0 ... 5222 8524 9736]\n",
      " ...\n",
      " [   0    0    0 ... 3646 2721 9604]\n",
      " [   0    0    0 ... 7849 7670 2712]\n",
      " [   0    0    0 ... 1786 1795  383]]\n"
     ]
    }
   ],
   "source": [
    "# All the sentences/docs in corpus should have same length.So we use padding.\n",
    "embedded_docs = pad_sequences(one_hot_rep, padding='pre',maxlen=max_length)\n",
    "print(embedded_docs)"
   ]
  },
  {
   "cell_type": "code",
   "execution_count": 25,
   "id": "035b9458",
   "metadata": {
    "execution": {
     "iopub.execute_input": "2021-07-25T09:09:03.301145Z",
     "iopub.status.busy": "2021-07-25T09:09:03.300414Z",
     "iopub.status.idle": "2021-07-25T09:09:03.303635Z",
     "shell.execute_reply": "2021-07-25T09:09:03.304102Z",
     "shell.execute_reply.started": "2021-07-25T08:37:23.579682Z"
    },
    "papermill": {
     "duration": 0.052462,
     "end_time": "2021-07-25T09:09:03.304337",
     "exception": false,
     "start_time": "2021-07-25T09:09:03.251875",
     "status": "completed"
    },
    "tags": []
   },
   "outputs": [],
   "source": [
    "X = np.array(embedded_docs)\n",
    "Y = np.array(train['target'])"
   ]
  },
  {
   "cell_type": "code",
   "execution_count": 26,
   "id": "919fe8f9",
   "metadata": {
    "execution": {
     "iopub.execute_input": "2021-07-25T09:09:03.399388Z",
     "iopub.status.busy": "2021-07-25T09:09:03.398703Z",
     "iopub.status.idle": "2021-07-25T09:09:03.403883Z",
     "shell.execute_reply": "2021-07-25T09:09:03.403294Z",
     "shell.execute_reply.started": "2021-07-25T08:37:38.581120Z"
    },
    "papermill": {
     "duration": 0.054011,
     "end_time": "2021-07-25T09:09:03.404037",
     "exception": false,
     "start_time": "2021-07-25T09:09:03.350026",
     "status": "completed"
    },
    "tags": []
   },
   "outputs": [
    {
     "name": "stdout",
     "output_type": "stream",
     "text": [
      "(7613, 64)\n"
     ]
    }
   ],
   "source": [
    "print(X.shape)"
   ]
  },
  {
   "cell_type": "code",
   "execution_count": 27,
   "id": "4aa48ba7",
   "metadata": {
    "execution": {
     "iopub.execute_input": "2021-07-25T09:09:03.498160Z",
     "iopub.status.busy": "2021-07-25T09:09:03.497520Z",
     "iopub.status.idle": "2021-07-25T09:09:03.501155Z",
     "shell.execute_reply": "2021-07-25T09:09:03.500328Z",
     "shell.execute_reply.started": "2021-07-25T08:37:54.119192Z"
    },
    "papermill": {
     "duration": 0.053381,
     "end_time": "2021-07-25T09:09:03.501370",
     "exception": false,
     "start_time": "2021-07-25T09:09:03.447989",
     "status": "completed"
    },
    "tags": []
   },
   "outputs": [
    {
     "name": "stdout",
     "output_type": "stream",
     "text": [
      "(7613,)\n"
     ]
    }
   ],
   "source": [
    "print(Y.shape)"
   ]
  },
  {
   "cell_type": "code",
   "execution_count": 28,
   "id": "c4ea5d3d",
   "metadata": {
    "execution": {
     "iopub.execute_input": "2021-07-25T09:09:03.604754Z",
     "iopub.status.busy": "2021-07-25T09:09:03.603809Z",
     "iopub.status.idle": "2021-07-25T09:09:03.609947Z",
     "shell.execute_reply": "2021-07-25T09:09:03.609377Z",
     "shell.execute_reply.started": "2021-07-25T08:38:09.704603Z"
    },
    "papermill": {
     "duration": 0.062905,
     "end_time": "2021-07-25T09:09:03.610103",
     "exception": false,
     "start_time": "2021-07-25T09:09:03.547198",
     "status": "completed"
    },
    "tags": []
   },
   "outputs": [],
   "source": [
    "# Split data for training and testing\n",
    "from sklearn.model_selection import train_test_split\n",
    "X_train, X_test, Y_train, Y_test = train_test_split(X,Y, test_size=0.25, stratify = Y)"
   ]
  },
  {
   "cell_type": "code",
   "execution_count": 29,
   "id": "9e1985e1",
   "metadata": {
    "execution": {
     "iopub.execute_input": "2021-07-25T09:09:03.705152Z",
     "iopub.status.busy": "2021-07-25T09:09:03.704234Z",
     "iopub.status.idle": "2021-07-25T09:09:03.709661Z",
     "shell.execute_reply": "2021-07-25T09:09:03.710919Z",
     "shell.execute_reply.started": "2021-07-25T08:38:27.270894Z"
    },
    "papermill": {
     "duration": 0.055958,
     "end_time": "2021-07-25T09:09:03.711153",
     "exception": false,
     "start_time": "2021-07-25T09:09:03.655195",
     "status": "completed"
    },
    "tags": []
   },
   "outputs": [
    {
     "name": "stdout",
     "output_type": "stream",
     "text": [
      "Shape of train data (5709, 64)\n"
     ]
    }
   ],
   "source": [
    "print(\"Shape of train data\", X_train.shape)"
   ]
  },
  {
   "cell_type": "code",
   "execution_count": 30,
   "id": "6994d01a",
   "metadata": {
    "execution": {
     "iopub.execute_input": "2021-07-25T09:09:03.809531Z",
     "iopub.status.busy": "2021-07-25T09:09:03.808765Z",
     "iopub.status.idle": "2021-07-25T09:09:03.814700Z",
     "shell.execute_reply": "2021-07-25T09:09:03.814114Z",
     "shell.execute_reply.started": "2021-07-25T08:38:46.203504Z"
    },
    "papermill": {
     "duration": 0.058683,
     "end_time": "2021-07-25T09:09:03.814845",
     "exception": false,
     "start_time": "2021-07-25T09:09:03.756162",
     "status": "completed"
    },
    "tags": []
   },
   "outputs": [
    {
     "name": "stdout",
     "output_type": "stream",
     "text": [
      "Shape of test data (1904, 64)\n"
     ]
    }
   ],
   "source": [
    "print(\"Shape of test data\", X_test.shape)"
   ]
  },
  {
   "cell_type": "markdown",
   "id": "d2078045",
   "metadata": {
    "papermill": {
     "duration": 0.044423,
     "end_time": "2021-07-25T09:09:03.905519",
     "exception": false,
     "start_time": "2021-07-25T09:09:03.861096",
     "status": "completed"
    },
    "tags": []
   },
   "source": [
    "### Modelling"
   ]
  },
  {
   "cell_type": "code",
   "execution_count": 31,
   "id": "a9cc8700",
   "metadata": {
    "execution": {
     "iopub.execute_input": "2021-07-25T09:09:04.003097Z",
     "iopub.status.busy": "2021-07-25T09:09:04.002448Z",
     "iopub.status.idle": "2021-07-25T09:09:04.355449Z",
     "shell.execute_reply": "2021-07-25T09:09:04.354896Z",
     "shell.execute_reply.started": "2021-07-25T08:52:01.601194Z"
    },
    "papermill": {
     "duration": 0.405153,
     "end_time": "2021-07-25T09:09:04.355613",
     "exception": false,
     "start_time": "2021-07-25T09:09:03.950460",
     "status": "completed"
    },
    "tags": []
   },
   "outputs": [
    {
     "name": "stdout",
     "output_type": "stream",
     "text": [
      "Model: \"sequential\"\n",
      "_________________________________________________________________\n",
      "Layer (type)                 Output Shape              Param #   \n",
      "=================================================================\n",
      "embedding (Embedding)        (None, 64, 300)           3000000   \n",
      "_________________________________________________________________\n",
      "dropout (Dropout)            (None, 64, 300)           0         \n",
      "_________________________________________________________________\n",
      "lstm (LSTM)                  (None, 32)                42624     \n",
      "_________________________________________________________________\n",
      "dropout_1 (Dropout)          (None, 32)                0         \n",
      "_________________________________________________________________\n",
      "dense (Dense)                (None, 1)                 33        \n",
      "=================================================================\n",
      "Total params: 3,042,657\n",
      "Trainable params: 3,042,657\n",
      "Non-trainable params: 0\n",
      "_________________________________________________________________\n",
      "None\n"
     ]
    }
   ],
   "source": [
    "# Creating LSTM model\n",
    "from tensorflow.keras.optimizers import Adam\n",
    "dim = 300\n",
    "model = Sequential()\n",
    "model.add(Embedding(voc_size, dim, input_length=max_length))\n",
    "model.add(Dropout(0.4))\n",
    "model.add(LSTM(32, recurrent_dropout=0.4))\n",
    "model.add(Dropout(0.4))\n",
    "model.add(Dense(1,activation='sigmoid'))\n",
    "model.compile(loss='binary_crossentropy', optimizer=Adam(learning_rate=0.0001), metrics=['accuracy'])\n",
    "print(model.summary())"
   ]
  },
  {
   "cell_type": "code",
   "execution_count": 32,
   "id": "4f71f35f",
   "metadata": {
    "execution": {
     "iopub.execute_input": "2021-07-25T09:09:04.452739Z",
     "iopub.status.busy": "2021-07-25T09:09:04.452100Z",
     "iopub.status.idle": "2021-07-25T09:10:56.577528Z",
     "shell.execute_reply": "2021-07-25T09:10:56.576875Z",
     "shell.execute_reply.started": "2021-07-25T08:52:13.374691Z"
    },
    "papermill": {
     "duration": 112.176066,
     "end_time": "2021-07-25T09:10:56.577764",
     "exception": false,
     "start_time": "2021-07-25T09:09:04.401698",
     "status": "completed"
    },
    "tags": []
   },
   "outputs": [
    {
     "name": "stdout",
     "output_type": "stream",
     "text": [
      "Epoch 1/10\n",
      "90/90 [==============================] - 15s 134ms/step - loss: 0.6892 - accuracy: 0.5301 - val_loss: 0.6723 - val_accuracy: 0.5704\n",
      "Epoch 2/10\n",
      "90/90 [==============================] - 11s 122ms/step - loss: 0.6676 - accuracy: 0.5732 - val_loss: 0.6604 - val_accuracy: 0.5709\n",
      "Epoch 3/10\n",
      "90/90 [==============================] - 11s 119ms/step - loss: 0.6495 - accuracy: 0.5940 - val_loss: 0.6421 - val_accuracy: 0.6082\n",
      "Epoch 4/10\n",
      "90/90 [==============================] - 11s 121ms/step - loss: 0.6299 - accuracy: 0.6480 - val_loss: 0.6101 - val_accuracy: 0.6849\n",
      "Epoch 5/10\n",
      "90/90 [==============================] - 11s 118ms/step - loss: 0.5775 - accuracy: 0.7320 - val_loss: 0.5623 - val_accuracy: 0.7668\n",
      "Epoch 6/10\n",
      "90/90 [==============================] - 11s 118ms/step - loss: 0.5026 - accuracy: 0.8137 - val_loss: 0.5276 - val_accuracy: 0.7563\n",
      "Epoch 7/10\n",
      "90/90 [==============================] - 11s 121ms/step - loss: 0.4272 - accuracy: 0.8448 - val_loss: 0.4921 - val_accuracy: 0.7925\n",
      "Epoch 8/10\n",
      "90/90 [==============================] - 11s 119ms/step - loss: 0.3685 - accuracy: 0.8722 - val_loss: 0.4892 - val_accuracy: 0.7931\n",
      "Epoch 9/10\n",
      "90/90 [==============================] - 11s 118ms/step - loss: 0.3368 - accuracy: 0.8803 - val_loss: 0.4856 - val_accuracy: 0.7889\n",
      "Epoch 10/10\n",
      "90/90 [==============================] - 11s 118ms/step - loss: 0.2939 - accuracy: 0.8952 - val_loss: 0.4995 - val_accuracy: 0.7899\n"
     ]
    },
    {
     "data": {
      "text/plain": [
       "<tensorflow.python.keras.callbacks.History at 0x7ff5102bf5d0>"
      ]
     },
     "execution_count": 32,
     "metadata": {},
     "output_type": "execute_result"
    }
   ],
   "source": [
    "model.fit(X_train, Y_train, validation_data=(X_test, Y_test), epochs=10, batch_size=64)"
   ]
  },
  {
   "cell_type": "code",
   "execution_count": 33,
   "id": "ac582fd9",
   "metadata": {
    "execution": {
     "iopub.execute_input": "2021-07-25T09:10:57.229444Z",
     "iopub.status.busy": "2021-07-25T09:10:57.228342Z",
     "iopub.status.idle": "2021-07-25T09:10:58.280699Z",
     "shell.execute_reply": "2021-07-25T09:10:58.279934Z",
     "shell.execute_reply.started": "2021-07-25T08:54:08.217613Z"
    },
    "papermill": {
     "duration": 1.382534,
     "end_time": "2021-07-25T09:10:58.280867",
     "exception": false,
     "start_time": "2021-07-25T09:10:56.898333",
     "status": "completed"
    },
    "tags": []
   },
   "outputs": [],
   "source": [
    "y_pred = model.predict_classes(X_test)"
   ]
  },
  {
   "cell_type": "code",
   "execution_count": 34,
   "id": "a14fe081",
   "metadata": {
    "execution": {
     "iopub.execute_input": "2021-07-25T09:10:58.961150Z",
     "iopub.status.busy": "2021-07-25T09:10:58.960450Z",
     "iopub.status.idle": "2021-07-25T09:10:58.970993Z",
     "shell.execute_reply": "2021-07-25T09:10:58.970381Z",
     "shell.execute_reply.started": "2021-07-25T08:54:40.062408Z"
    },
    "papermill": {
     "duration": 0.362999,
     "end_time": "2021-07-25T09:10:58.971161",
     "exception": false,
     "start_time": "2021-07-25T09:10:58.608162",
     "status": "completed"
    },
    "tags": []
   },
   "outputs": [
    {
     "data": {
      "text/plain": [
       "array([[958, 128],\n",
       "       [272, 546]])"
      ]
     },
     "execution_count": 34,
     "metadata": {},
     "output_type": "execute_result"
    }
   ],
   "source": [
    "# Lets have  a look at confusion matrix\n",
    "from sklearn.metrics import confusion_matrix, f1_score, accuracy_score\n",
    "confusion_matrix(Y_test, y_pred) "
   ]
  },
  {
   "cell_type": "code",
   "execution_count": 35,
   "id": "d66f37f1",
   "metadata": {
    "execution": {
     "iopub.execute_input": "2021-07-25T09:10:59.628278Z",
     "iopub.status.busy": "2021-07-25T09:10:59.627193Z",
     "iopub.status.idle": "2021-07-25T09:10:59.632642Z",
     "shell.execute_reply": "2021-07-25T09:10:59.632043Z",
     "shell.execute_reply.started": "2021-07-25T08:55:01.527518Z"
    },
    "papermill": {
     "duration": 0.339366,
     "end_time": "2021-07-25T09:10:59.632796",
     "exception": false,
     "start_time": "2021-07-25T09:10:59.293430",
     "status": "completed"
    },
    "tags": []
   },
   "outputs": [
    {
     "name": "stdout",
     "output_type": "stream",
     "text": [
      "Accuray for test data is 0.7899159663865546\n"
     ]
    }
   ],
   "source": [
    "print(\"Accuray for test data is\", accuracy_score(Y_test, y_pred))"
   ]
  },
  {
   "cell_type": "code",
   "execution_count": 36,
   "id": "be670d64",
   "metadata": {
    "execution": {
     "iopub.execute_input": "2021-07-25T09:11:00.366896Z",
     "iopub.status.busy": "2021-07-25T09:11:00.365875Z",
     "iopub.status.idle": "2021-07-25T09:11:00.374219Z",
     "shell.execute_reply": "2021-07-25T09:11:00.373641Z",
     "shell.execute_reply.started": "2021-07-25T08:55:20.594127Z"
    },
    "papermill": {
     "duration": 0.418273,
     "end_time": "2021-07-25T09:11:00.374407",
     "exception": false,
     "start_time": "2021-07-25T09:10:59.956134",
     "status": "completed"
    },
    "tags": []
   },
   "outputs": [
    {
     "name": "stdout",
     "output_type": "stream",
     "text": [
      "F1 score for test data is 0.7319034852546918\n"
     ]
    }
   ],
   "source": [
    "print(\"F1 score for test data is\", f1_score(Y_test, y_pred))"
   ]
  },
  {
   "cell_type": "markdown",
   "id": "c1a1bd92",
   "metadata": {
    "papermill": {
     "duration": 0.322743,
     "end_time": "2021-07-25T09:11:01.015932",
     "exception": false,
     "start_time": "2021-07-25T09:11:00.693189",
     "status": "completed"
    },
    "tags": []
   },
   "source": [
    "### Convert test tweets to embeddings"
   ]
  },
  {
   "cell_type": "code",
   "execution_count": 37,
   "id": "085a7790",
   "metadata": {
    "execution": {
     "iopub.execute_input": "2021-07-25T09:11:01.676218Z",
     "iopub.status.busy": "2021-07-25T09:11:01.675498Z",
     "iopub.status.idle": "2021-07-25T09:11:01.678254Z",
     "shell.execute_reply": "2021-07-25T09:11:01.677588Z",
     "shell.execute_reply.started": "2021-07-25T08:56:12.582874Z"
    },
    "papermill": {
     "duration": 0.336525,
     "end_time": "2021-07-25T09:11:01.678428",
     "exception": false,
     "start_time": "2021-07-25T09:11:01.341903",
     "status": "completed"
    },
    "tags": []
   },
   "outputs": [],
   "source": [
    "test_corpus = list(test['text'])"
   ]
  },
  {
   "cell_type": "code",
   "execution_count": 38,
   "id": "46114775",
   "metadata": {
    "execution": {
     "iopub.execute_input": "2021-07-25T09:11:02.337502Z",
     "iopub.status.busy": "2021-07-25T09:11:02.336836Z",
     "iopub.status.idle": "2021-07-25T09:11:02.391828Z",
     "shell.execute_reply": "2021-07-25T09:11:02.391163Z",
     "shell.execute_reply.started": "2021-07-25T08:56:25.327970Z"
    },
    "papermill": {
     "duration": 0.385395,
     "end_time": "2021-07-25T09:11:02.392021",
     "exception": false,
     "start_time": "2021-07-25T09:11:02.006626",
     "status": "completed"
    },
    "tags": []
   },
   "outputs": [],
   "source": [
    "one_hot_rep = [one_hot(word, voc_size) for word in test_corpus]"
   ]
  },
  {
   "cell_type": "code",
   "execution_count": 39,
   "id": "659d3926",
   "metadata": {
    "execution": {
     "iopub.execute_input": "2021-07-25T09:11:03.051720Z",
     "iopub.status.busy": "2021-07-25T09:11:03.049805Z",
     "iopub.status.idle": "2021-07-25T09:11:03.079139Z",
     "shell.execute_reply": "2021-07-25T09:11:03.078408Z",
     "shell.execute_reply.started": "2021-07-25T08:56:42.897237Z"
    },
    "papermill": {
     "duration": 0.360303,
     "end_time": "2021-07-25T09:11:03.079324",
     "exception": false,
     "start_time": "2021-07-25T09:11:02.719021",
     "status": "completed"
    },
    "tags": []
   },
   "outputs": [],
   "source": [
    "embedded_docs_test = pad_sequences(one_hot_rep, padding='pre',maxlen=max_length)"
   ]
  },
  {
   "cell_type": "markdown",
   "id": "b1ca9927",
   "metadata": {
    "papermill": {
     "duration": 0.322499,
     "end_time": "2021-07-25T09:11:03.725936",
     "exception": false,
     "start_time": "2021-07-25T09:11:03.403437",
     "status": "completed"
    },
    "tags": []
   },
   "source": [
    "### Predict class labels for test tweet"
   ]
  },
  {
   "cell_type": "code",
   "execution_count": 40,
   "id": "61c18251",
   "metadata": {
    "execution": {
     "iopub.execute_input": "2021-07-25T09:11:04.387997Z",
     "iopub.status.busy": "2021-07-25T09:11:04.386958Z",
     "iopub.status.idle": "2021-07-25T09:11:05.630016Z",
     "shell.execute_reply": "2021-07-25T09:11:05.629225Z",
     "shell.execute_reply.started": "2021-07-25T08:57:16.053631Z"
    },
    "papermill": {
     "duration": 1.573704,
     "end_time": "2021-07-25T09:11:05.630192",
     "exception": false,
     "start_time": "2021-07-25T09:11:04.056488",
     "status": "completed"
    },
    "tags": []
   },
   "outputs": [],
   "source": [
    "test_labels = model.predict_classes(embedded_docs_test)"
   ]
  },
  {
   "cell_type": "code",
   "execution_count": 41,
   "id": "8ef505df",
   "metadata": {
    "execution": {
     "iopub.execute_input": "2021-07-25T09:11:06.287316Z",
     "iopub.status.busy": "2021-07-25T09:11:06.286586Z",
     "iopub.status.idle": "2021-07-25T09:11:06.293721Z",
     "shell.execute_reply": "2021-07-25T09:11:06.293057Z",
     "shell.execute_reply.started": "2021-07-25T08:57:33.592227Z"
    },
    "papermill": {
     "duration": 0.336327,
     "end_time": "2021-07-25T09:11:06.293889",
     "exception": false,
     "start_time": "2021-07-25T09:11:05.957562",
     "status": "completed"
    },
    "tags": []
   },
   "outputs": [
    {
     "data": {
      "text/plain": [
       "array([[1],\n",
       "       [1],\n",
       "       [1],\n",
       "       ...,\n",
       "       [1],\n",
       "       [1],\n",
       "       [0]], dtype=int32)"
      ]
     },
     "execution_count": 41,
     "metadata": {},
     "output_type": "execute_result"
    }
   ],
   "source": [
    "test_labels"
   ]
  },
  {
   "cell_type": "code",
   "execution_count": 42,
   "id": "d6582909",
   "metadata": {
    "execution": {
     "iopub.execute_input": "2021-07-25T09:11:06.973845Z",
     "iopub.status.busy": "2021-07-25T09:11:06.972773Z",
     "iopub.status.idle": "2021-07-25T09:11:06.976442Z",
     "shell.execute_reply": "2021-07-25T09:11:06.975789Z",
     "shell.execute_reply.started": "2021-07-25T08:57:53.172203Z"
    },
    "papermill": {
     "duration": 0.343879,
     "end_time": "2021-07-25T09:11:06.976594",
     "exception": false,
     "start_time": "2021-07-25T09:11:06.632715",
     "status": "completed"
    },
    "tags": []
   },
   "outputs": [],
   "source": [
    "# Convert labels to list to add in submission file\n",
    "test_labels_list = [i[0] for i in test_labels] "
   ]
  },
  {
   "cell_type": "code",
   "execution_count": 43,
   "id": "7466dae5",
   "metadata": {
    "execution": {
     "iopub.execute_input": "2021-07-25T09:11:07.634923Z",
     "iopub.status.busy": "2021-07-25T09:11:07.634164Z",
     "iopub.status.idle": "2021-07-25T09:11:07.649075Z",
     "shell.execute_reply": "2021-07-25T09:11:07.649620Z",
     "shell.execute_reply.started": "2021-07-25T08:58:07.807446Z"
    },
    "papermill": {
     "duration": 0.35194,
     "end_time": "2021-07-25T09:11:07.649806",
     "exception": false,
     "start_time": "2021-07-25T09:11:07.297866",
     "status": "completed"
    },
    "tags": []
   },
   "outputs": [
    {
     "name": "stdout",
     "output_type": "stream",
     "text": [
      "   id  target\n",
      "0   0       1\n",
      "1   2       1\n",
      "2   3       1\n",
      "3   9       1\n",
      "4  11       1\n",
      "5  12       1\n",
      "6  21       0\n",
      "7  22       0\n",
      "8  27       0\n",
      "9  29       0\n"
     ]
    }
   ],
   "source": [
    "submission=pd.DataFrame({'id': test['id'], 'target':test_labels_list})\n",
    "print(submission.head(10))\n",
    "\n",
    "filename = 'submission.csv'\n",
    "\n",
    "submission.to_csv(filename,index=False)"
   ]
  }
 ],
 "metadata": {
  "kernelspec": {
   "display_name": "Python 3",
   "language": "python",
   "name": "python3"
  },
  "language_info": {
   "codemirror_mode": {
    "name": "ipython",
    "version": 3
   },
   "file_extension": ".py",
   "mimetype": "text/x-python",
   "name": "python",
   "nbconvert_exporter": "python",
   "pygments_lexer": "ipython3",
   "version": "3.7.10"
  },
  "papermill": {
   "default_parameters": {},
   "duration": 163.226511,
   "end_time": "2021-07-25T09:11:10.951640",
   "environment_variables": {},
   "exception": null,
   "input_path": "__notebook__.ipynb",
   "output_path": "__notebook__.ipynb",
   "parameters": {},
   "start_time": "2021-07-25T09:08:27.725129",
   "version": "2.3.3"
  }
 },
 "nbformat": 4,
 "nbformat_minor": 5
}
